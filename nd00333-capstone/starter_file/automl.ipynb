{
  "cells": [
    {
      "cell_type": "markdown",
      "source": [
        "# Automated ML\n",
        "\n",
        "TODO: Import Dependencies. In the cell below, import all the dependencies that you will need to complete the project."
      ],
      "metadata": {}
    },
    {
      "cell_type": "code",
      "source": [
        "import logging\n",
        "import os\n",
        "import csv\n",
        "\n",
        "from matplotlib import pyplot as plt\n",
        "import numpy as np\n",
        "import pandas as pd\n",
        "from sklearn import datasets\n",
        "import sklearn\n",
        "import pkg_resources\n",
        "\n",
        "import azureml.core\n",
        "from azureml.core.experiment import Experiment\n",
        "from azureml.core.workspace import Workspace\n",
        "from azureml.train.automl import AutoMLConfig\n",
        "from azureml.core.dataset import Dataset\n",
        "\n",
        "from azureml.pipeline.steps import AutoMLStep\n",
        "\n",
        "# Check core SDK version number\n",
        "print(\"SDK version:\", azureml.core.VERSION)"
      ],
      "outputs": [
        {
          "output_type": "stream",
          "name": "stdout",
          "text": "SDK version: 1.44.0\n"
        }
      ],
      "execution_count": 1,
      "metadata": {
        "gather": {
          "logged": 1668101559632
        },
        "jupyter": {
          "outputs_hidden": false,
          "source_hidden": false
        },
        "nteract": {
          "transient": {
            "deleting": false
          }
        }
      }
    },
    {
      "cell_type": "markdown",
      "source": [
        "## Dataset\n",
        "\n",
        "### Overview\n",
        "Cardiovascular diseases (CVDs) are the number 1 cause of death globally, taking an estimated 17.9 million lives each year, which accounts for 31% of all deaths worlwide.\n",
        "\n",
        "Heart failure is a common event caused by CVDs and this dataset contains 12 features that can be used to predict mortality by heart failure.\n",
        "\n",
        "Most cardiovascular diseases can be prevented by addressing behavioural risk factors such as tobacco use, unhealthy diet and obesity, physical inactivity and harmful use of alcohol using population-wide strategies.\n",
        "\n",
        "People with cardiovascular disease or who are at high cardiovascular risk (due to the presence of one or more risk factors such as hypertension, diabetes, hyperlipidaemia or already established disease) need early detection and management wherein a machine learning model can be of great help."
      ],
      "metadata": {}
    },
    {
      "cell_type": "code",
      "source": [
        "ws = Workspace.from_config()\n",
        "\n",
        "# choose a name for experiment\n",
        "experiment_name = 'capstone'\n",
        "\n",
        "experiment=Experiment(ws, experiment_name)"
      ],
      "outputs": [],
      "execution_count": 2,
      "metadata": {
        "gather": {
          "logged": 1668101560302
        },
        "jupyter": {
          "outputs_hidden": false,
          "source_hidden": false
        },
        "nteract": {
          "transient": {
            "deleting": false
          }
        }
      }
    },
    {
      "cell_type": "code",
      "source": [
        "dataset = Dataset.get_by_name(ws, name='heart_failure_dataset')\n",
        "df = dataset.to_pandas_dataframe()\n",
        "df.head()"
      ],
      "outputs": [
        {
          "output_type": "execute_result",
          "execution_count": 3,
          "data": {
            "text/plain": "    age  anaemia  creatinine_phosphokinase  diabetes  ejection_fraction  \\\n0  75.0        0                       582         0                 20   \n1  55.0        0                      7861         0                 38   \n2  65.0        0                       146         0                 20   \n3  50.0        1                       111         0                 20   \n4  65.0        1                       160         1                 20   \n\n   high_blood_pressure  platelets  serum_creatinine  serum_sodium  sex  \\\n0                    1  265000.00               1.9           130    1   \n1                    0  263358.03               1.1           136    1   \n2                    0  162000.00               1.3           129    1   \n3                    0  210000.00               1.9           137    1   \n4                    0  327000.00               2.7           116    0   \n\n   smoking  time  DEATH_EVENT  \n0        0     4            1  \n1        0     6            1  \n2        1     7            1  \n3        0     7            1  \n4        0     8            1  ",
            "text/html": "<div>\n<style scoped>\n    .dataframe tbody tr th:only-of-type {\n        vertical-align: middle;\n    }\n\n    .dataframe tbody tr th {\n        vertical-align: top;\n    }\n\n    .dataframe thead th {\n        text-align: right;\n    }\n</style>\n<table border=\"1\" class=\"dataframe\">\n  <thead>\n    <tr style=\"text-align: right;\">\n      <th></th>\n      <th>age</th>\n      <th>anaemia</th>\n      <th>creatinine_phosphokinase</th>\n      <th>diabetes</th>\n      <th>ejection_fraction</th>\n      <th>high_blood_pressure</th>\n      <th>platelets</th>\n      <th>serum_creatinine</th>\n      <th>serum_sodium</th>\n      <th>sex</th>\n      <th>smoking</th>\n      <th>time</th>\n      <th>DEATH_EVENT</th>\n    </tr>\n  </thead>\n  <tbody>\n    <tr>\n      <th>0</th>\n      <td>75.0</td>\n      <td>0</td>\n      <td>582</td>\n      <td>0</td>\n      <td>20</td>\n      <td>1</td>\n      <td>265000.00</td>\n      <td>1.9</td>\n      <td>130</td>\n      <td>1</td>\n      <td>0</td>\n      <td>4</td>\n      <td>1</td>\n    </tr>\n    <tr>\n      <th>1</th>\n      <td>55.0</td>\n      <td>0</td>\n      <td>7861</td>\n      <td>0</td>\n      <td>38</td>\n      <td>0</td>\n      <td>263358.03</td>\n      <td>1.1</td>\n      <td>136</td>\n      <td>1</td>\n      <td>0</td>\n      <td>6</td>\n      <td>1</td>\n    </tr>\n    <tr>\n      <th>2</th>\n      <td>65.0</td>\n      <td>0</td>\n      <td>146</td>\n      <td>0</td>\n      <td>20</td>\n      <td>0</td>\n      <td>162000.00</td>\n      <td>1.3</td>\n      <td>129</td>\n      <td>1</td>\n      <td>1</td>\n      <td>7</td>\n      <td>1</td>\n    </tr>\n    <tr>\n      <th>3</th>\n      <td>50.0</td>\n      <td>1</td>\n      <td>111</td>\n      <td>0</td>\n      <td>20</td>\n      <td>0</td>\n      <td>210000.00</td>\n      <td>1.9</td>\n      <td>137</td>\n      <td>1</td>\n      <td>0</td>\n      <td>7</td>\n      <td>1</td>\n    </tr>\n    <tr>\n      <th>4</th>\n      <td>65.0</td>\n      <td>1</td>\n      <td>160</td>\n      <td>1</td>\n      <td>20</td>\n      <td>0</td>\n      <td>327000.00</td>\n      <td>2.7</td>\n      <td>116</td>\n      <td>0</td>\n      <td>0</td>\n      <td>8</td>\n      <td>1</td>\n    </tr>\n  </tbody>\n</table>\n</div>"
          },
          "metadata": {}
        }
      ],
      "execution_count": 3,
      "metadata": {
        "jupyter": {
          "source_hidden": false,
          "outputs_hidden": false
        },
        "nteract": {
          "transient": {
            "deleting": false
          }
        },
        "gather": {
          "logged": 1668101562910
        }
      }
    },
    {
      "cell_type": "code",
      "source": [
        "df.info()"
      ],
      "outputs": [
        {
          "output_type": "stream",
          "name": "stdout",
          "text": "<class 'pandas.core.frame.DataFrame'>\nRangeIndex: 299 entries, 0 to 298\nData columns (total 13 columns):\n #   Column                    Non-Null Count  Dtype  \n---  ------                    --------------  -----  \n 0   age                       299 non-null    float64\n 1   anaemia                   299 non-null    int64  \n 2   creatinine_phosphokinase  299 non-null    int64  \n 3   diabetes                  299 non-null    int64  \n 4   ejection_fraction         299 non-null    int64  \n 5   high_blood_pressure       299 non-null    int64  \n 6   platelets                 299 non-null    float64\n 7   serum_creatinine          299 non-null    float64\n 8   serum_sodium              299 non-null    int64  \n 9   sex                       299 non-null    int64  \n 10  smoking                   299 non-null    int64  \n 11  time                      299 non-null    int64  \n 12  DEATH_EVENT               299 non-null    int64  \ndtypes: float64(3), int64(10)\nmemory usage: 30.5 KB\n"
        }
      ],
      "execution_count": 4,
      "metadata": {
        "jupyter": {
          "source_hidden": false,
          "outputs_hidden": false
        },
        "nteract": {
          "transient": {
            "deleting": false
          }
        },
        "gather": {
          "logged": 1668101563087
        }
      }
    },
    {
      "cell_type": "markdown",
      "source": [
        "## Create or Attach an AmlCompute cluster\n",
        "You will need to create a compute target for your AutoML run. \n",
        "\n",
        "**Udacity Note** There is no need to create a new compute target, it can re-use the previous cluster"
      ],
      "metadata": {
        "nteract": {
          "transient": {
            "deleting": false
          }
        }
      }
    },
    {
      "cell_type": "code",
      "source": [
        "from azureml.core.compute import AmlCompute\n",
        "from azureml.core.compute import ComputeTarget\n",
        "from azureml.core.compute_target import ComputeTargetException"
      ],
      "outputs": [],
      "execution_count": 5,
      "metadata": {
        "jupyter": {
          "source_hidden": false,
          "outputs_hidden": false
        },
        "nteract": {
          "transient": {
            "deleting": false
          }
        },
        "gather": {
          "logged": 1668101563177
        }
      }
    },
    {
      "cell_type": "code",
      "source": [
        "# Create the CPU computer cluster\n",
        "amlcompute_cluster_name = \"capstone\"\n",
        "\n",
        "# Verify if cluster does not exist otherwise use the existing one\n",
        "try:\n",
        "    compute_target = ComputeTarget(workspace=ws, name=amlcompute_cluster_name)\n",
        "    print('Found existing cluster, use it.')\n",
        "except ComputeTargetException:\n",
        "    compute_config = AmlCompute.provisioning_configuration(vm_size='Standard_DS12_V2',\n",
        "                                                           vm_priority = 'lowpriority', \n",
        "                                                           max_nodes=5,\n",
        "                                                           min_nodes=0,\n",
        "                                                           idle_seconds_before_scaledown=600)\n",
        "    compute_target = ComputeTarget.create(ws, amlcompute_cluster_name, compute_config)\n",
        "\n",
        "compute_target.wait_for_completion(show_output=True)"
      ],
      "outputs": [
        {
          "output_type": "stream",
          "name": "stdout",
          "text": "Found existing cluster, use it.\n\nRunning\n"
        }
      ],
      "execution_count": 6,
      "metadata": {
        "jupyter": {
          "source_hidden": false,
          "outputs_hidden": false
        },
        "nteract": {
          "transient": {
            "deleting": false
          }
        },
        "gather": {
          "logged": 1668101568887
        }
      }
    },
    {
      "cell_type": "markdown",
      "source": [
        "## AutoML Configuration\n",
        "\n",
        "Here is an overview of AutoML settings, \n",
        "\n",
        "- **experiment_timeout_minutes**: set to 20 minutes. The experiment will timeout after after this period of time to avoid incurring additional expense.\n",
        "\n",
        "- **max_concurrent_iterations**: set to 4. The max number of concurrent iterations that can be run on the nodes in the compute cluster.\n",
        "\n",
        "- **primary_metric** : set to 'AUC_weighted' because this is an imbalanced dataset\n",
        "\n",
        "- **n_cross_validations**: set to 4 fold cross validation.\n",
        "\n",
        "\n",
        "Here is an overview of AutoML Configuration\n",
        "\n",
        "- **compute_target**: set to CPU compute cluster name defined above.\n",
        "\n",
        "- **task**: set to 'classification' because our target is to predict how many upvotes a comment will get.\n",
        "\n",
        "- **training_data**: reddit upvotes dataset.\n",
        "\n",
        "- **label_column_name**: set to 'DEATH_EVENT' which is our target.\n",
        "\n",
        "- **enable_early_stopping**: enabled to terminate the experiment if the accuracy score does not improveme over time, thus avoiding unnecessary costs.\n",
        "\n",
        "- **featurization** = set to 'auto' so Azure ML will automatically handle featurization and clean the dataset.\n",
        "\n",
        "- **debug_log**: errors will be logged into 'automl_errors.log'.\n"
      ],
      "metadata": {}
    },
    {
      "cell_type": "code",
      "source": [
        "# TODO: Put your automl settings here\n",
        "automl_settings = {\n",
        "    \"experiment_timeout_minutes\": 20,\n",
        "    \"max_concurrent_iterations\": 4,\n",
        "    \"primary_metric\" : 'AUC_weighted',\n",
        "    \"n_cross_validations\": 4\n",
        "}\n",
        "\n",
        "# TODO: Put your automl config here\n",
        "automl_config = AutoMLConfig(compute_target=compute_target,\n",
        "                             task = \"classification\",\n",
        "                             training_data=dataset, \n",
        "                             label_column_name=\"DEATH_EVENT\", \n",
        "                             enable_early_stopping= True,\n",
        "                             featurization= 'auto',\n",
        "                             debug_log = \"automl_errors.log\",\n",
        "                             **automl_settings\n",
        "                            )"
      ],
      "outputs": [],
      "execution_count": 7,
      "metadata": {
        "gather": {
          "logged": 1668101569003
        },
        "jupyter": {
          "outputs_hidden": false,
          "source_hidden": false
        },
        "nteract": {
          "transient": {
            "deleting": false
          }
        }
      }
    },
    {
      "cell_type": "code",
      "source": [
        "# TODO: Submit your experiment\n",
        "remote_run = experiment.submit(automl_config, show_output=True)"
      ],
      "outputs": [
        {
          "output_type": "stream",
          "name": "stdout",
          "text": "Submitting remote run.\nNo run_configuration provided, running on capstone with default configuration\nRunning on remote compute: capstone\n"
        },
        {
          "output_type": "display_data",
          "data": {
            "text/plain": "<IPython.core.display.HTML object>",
            "text/html": "<table style=\"width:100%\"><tr><th>Experiment</th><th>Id</th><th>Type</th><th>Status</th><th>Details Page</th><th>Docs Page</th></tr><tr><td>capstone</td><td>AutoML_3ad48a9e-b036-4cc8-aff4-bee9f8e1822c</td><td>automl</td><td>NotStarted</td><td><a href=\"https://ml.azure.com/runs/AutoML_3ad48a9e-b036-4cc8-aff4-bee9f8e1822c?wsid=/subscriptions/4999417e-f032-4d4c-982a-c229e26aa825/resourcegroups/udacity-learning/workspaces/udacity&amp;tid=fd3b6086-53e5-43ac-9b6b-b17e80f6e2f7\" target=\"_blank\" rel=\"noopener\">Link to Azure Machine Learning studio</a></td><td><a href=\"https://docs.microsoft.com/en-us/python/api/overview/azure/ml/intro?view=azure-ml-py\" target=\"_blank\" rel=\"noopener\">Link to Documentation</a></td></tr></table>"
          },
          "metadata": {}
        },
        {
          "output_type": "stream",
          "name": "stdout",
          "text": "\nCurrent status: FeaturesGeneration. Generating features for the dataset.\nCurrent status: DatasetCrossValidationSplit. Generating individually featurized CV splits.\nCurrent status: ModelSelection. Beginning model selection.\n\n********************************************************************************************\nDATA GUARDRAILS: \n\nTYPE:         Class balancing detection\nSTATUS:       PASSED\nDESCRIPTION:  Your inputs were analyzed, and all classes are balanced in your training data.\n              Learn more about imbalanced data: https://aka.ms/AutomatedMLImbalancedData\n\n********************************************************************************************\n\nTYPE:         Missing feature values imputation\nSTATUS:       PASSED\nDESCRIPTION:  No feature missing values were detected in the training data.\n              Learn more about missing value imputation: https://aka.ms/AutomatedMLFeaturization\n\n********************************************************************************************\n\nTYPE:         High cardinality feature detection\nSTATUS:       PASSED\nDESCRIPTION:  Your inputs were analyzed, and no high cardinality features were detected.\n              Learn more about high cardinality feature handling: https://aka.ms/AutomatedMLFeaturization\n\n********************************************************************************************\n\n********************************************************************************************\nITER: The iteration being evaluated.\nPIPELINE: A summary description of the pipeline being evaluated.\nDURATION: Time taken for the current iteration.\nMETRIC: The result of computing score on the fitted pipeline.\nBEST: The best observed score thus far.\n********************************************************************************************\n\n ITER   PIPELINE                                       DURATION            METRIC      BEST\n    0   MaxAbsScaler LightGBM                          0:00:12             0.8860    0.8860\n    1   MaxAbsScaler XGBoostClassifier                 0:00:16             0.8889    0.8889\n    2   MaxAbsScaler ExtremeRandomTrees                0:00:16             0.8696    0.8889\n    5   StandardScalerWrapper KNN                      0:00:17             0.5288    0.8889\n    3   MaxAbsScaler RandomForest                      0:00:16             0.8831    0.8889\n    6   SparseNormalizer XGBoostClassifier             0:00:16             0.8696    0.8889\n    7   SparseNormalizer RandomForest                  0:00:22             0.8737    0.8889\n    4   StandardScalerWrapper LightGBM                 0:00:16             0.9061    0.9061\n    8   RobustScaler KNN                               0:00:16             0.8360    0.9061\n    9   MinMaxScaler RandomForest                      0:00:16             0.8981    0.9061\n   10   StandardScalerWrapper LogisticRegression       0:00:18             0.8625    0.9061\n   11   StandardScalerWrapper SVM                      0:00:16             0.7779    0.9061\n   12   StandardScalerWrapper XGBoostClassifier        0:00:16             0.8712    0.9061\n   15   SparseNormalizer XGBoostClassifier             0:00:17             0.8690    0.9061\n   13   SparseNormalizer KNN                           0:00:16             0.7371    0.9061\n   16   MinMaxScaler ExtremeRandomTrees                0:00:17             0.9132    0.9132\n   17   MinMaxScaler ExtremeRandomTrees                0:00:16             0.9044    0.9132\n   14   RobustScaler ExtremeRandomTrees                0:00:17             0.8886    0.9132\n   18   SparseNormalizer LightGBM                      0:00:11             0.8640    0.9132\n   19   MaxAbsScaler ExtremeRandomTrees                0:00:19             0.8783    0.9132\n   21   StandardScalerWrapper RandomForest             0:00:04             0.9099    0.9132\n   20   StandardScalerWrapper XGBoostClassifier        0:00:04             0.9030    0.9132\n   22   MaxAbsScaler LightGBM                          0:00:04             0.9049    0.9132\n   24   StandardScalerWrapper ExtremeRandomTrees       0:00:04             0.9110    0.9132\n   23   MaxAbsScaler LogisticRegression                0:00:04             0.8620    0.9132\n   25   RobustScaler ExtremeRandomTrees                0:00:04             0.7472    0.9132\n   26   StandardScalerWrapper LogisticRegression       0:00:04             0.8673    0.9132\n   27   MinMaxScaler RandomForest                      0:00:04             0.9002    0.9132\n   28   StandardScalerWrapper ExtremeRandomTrees       0:00:04             0.8637    0.9132\n   29   StandardScalerWrapper XGBoostClassifier        0:00:04             0.8782    0.9132\n   30   RobustScaler ExtremeRandomTrees                0:00:04             0.6062    0.9132\n   31   StandardScalerWrapper XGBoostClassifier        0:00:04             0.8976    0.9132\n   32   StandardScalerWrapper XGBoostClassifier        0:00:04             0.9000    0.9132\n   34                                                  0:00:00                nan    0.9132\n   35                                                  0:00:00                nan    0.9132\n   33   MinMaxScaler GradientBoosting                  0:00:11             0.9011    0.9132\n   36    VotingEnsemble                                0:00:04             0.9221    0.9221\n   37    StackEnsemble                                 0:00:04             0.9171    0.9221\n"
        }
      ],
      "execution_count": 8,
      "metadata": {
        "gather": {
          "logged": 1668102320718
        },
        "jupyter": {
          "outputs_hidden": false,
          "source_hidden": false
        },
        "nteract": {
          "transient": {
            "deleting": false
          }
        }
      }
    },
    {
      "cell_type": "markdown",
      "source": [
        "## Run Details\n",
        "\n",
        "- Tree based models (both Random Forest and gradient boosted trees) performed quite well. In almost all the models we have either StandardScaling or MinMaxScaling on the dataset\n",
        "- Ensembling using a simple voting performs much better than stacking ensemble. \n",
        "\n",
        "\n",
        "TODO: In the cell below, use the `RunDetails` widget to show the different experiments."
      ],
      "metadata": {}
    },
    {
      "cell_type": "code",
      "source": [
        "from azureml.widgets import RunDetails\n",
        "RunDetails(remote_run).show()\n",
        "\n",
        "remote_run.wait_for_completion(show_output=True)"
      ],
      "outputs": [
        {
          "output_type": "display_data",
          "data": {
            "text/plain": "_AutoMLWidget(widget_settings={'childWidgetDisplay': 'popup', 'send_telemetry': False, 'log_level': 'INFO', 's…",
            "application/vnd.jupyter.widget-view+json": {
              "version_major": 2,
              "version_minor": 0,
              "model_id": "6f03a8de1c53486f8d64f5061e8ce362"
            }
          },
          "metadata": {}
        },
        {
          "output_type": "display_data",
          "data": {
            "application/aml.mini.widget.v1": "{\"status\": \"Completed\", \"workbench_run_details_uri\": \"https://ml.azure.com/runs/AutoML_3ad48a9e-b036-4cc8-aff4-bee9f8e1822c?wsid=/subscriptions/4999417e-f032-4d4c-982a-c229e26aa825/resourcegroups/udacity-learning/workspaces/udacity&tid=fd3b6086-53e5-43ac-9b6b-b17e80f6e2f7\", \"run_id\": \"AutoML_3ad48a9e-b036-4cc8-aff4-bee9f8e1822c\", \"run_properties\": {\"run_id\": \"AutoML_3ad48a9e-b036-4cc8-aff4-bee9f8e1822c\", \"created_utc\": \"2022-11-10T17:32:50.721061Z\", \"properties\": {\"num_iterations\": \"1000\", \"training_type\": \"TrainFull\", \"acquisition_function\": \"EI\", \"primary_metric\": \"AUC_weighted\", \"train_split\": \"0\", \"acquisition_parameter\": \"0\", \"num_cross_validation\": \"4\", \"target\": \"capstone\", \"AMLSettingsJsonString\": \"{\\\"path\\\":null,\\\"name\\\":\\\"capstone\\\",\\\"subscription_id\\\":\\\"4999417e-f032-4d4c-982a-c229e26aa825\\\",\\\"resource_group\\\":\\\"udacity-learning\\\",\\\"workspace_name\\\":\\\"udacity\\\",\\\"region\\\":\\\"germanywestcentral\\\",\\\"compute_target\\\":\\\"capstone\\\",\\\"spark_service\\\":null,\\\"azure_service\\\":\\\"remote\\\",\\\"many_models\\\":false,\\\"pipeline_fetch_max_batch_size\\\":1,\\\"enable_batch_run\\\":true,\\\"enable_run_restructure\\\":false,\\\"start_auxiliary_runs_before_parent_complete\\\":false,\\\"enable_code_generation\\\":true,\\\"iterations\\\":1000,\\\"primary_metric\\\":\\\"AUC_weighted\\\",\\\"task_type\\\":\\\"classification\\\",\\\"positive_label\\\":null,\\\"data_script\\\":null,\\\"test_size\\\":0.0,\\\"test_include_predictions_only\\\":false,\\\"validation_size\\\":0.0,\\\"n_cross_validations\\\":4,\\\"y_min\\\":null,\\\"y_max\\\":null,\\\"num_classes\\\":null,\\\"featurization\\\":\\\"auto\\\",\\\"_ignore_package_version_incompatibilities\\\":false,\\\"is_timeseries\\\":false,\\\"max_cores_per_iteration\\\":1,\\\"max_concurrent_iterations\\\":4,\\\"iteration_timeout_minutes\\\":null,\\\"mem_in_mb\\\":null,\\\"enforce_time_on_windows\\\":false,\\\"experiment_timeout_minutes\\\":20,\\\"experiment_exit_score\\\":null,\\\"partition_column_names\\\":null,\\\"whitelist_models\\\":null,\\\"blacklist_algos\\\":[\\\"TensorFlowLinearClassifier\\\",\\\"TensorFlowDNN\\\"],\\\"supported_models\\\":[\\\"SVM\\\",\\\"ExtremeRandomTrees\\\",\\\"TensorFlowLinearClassifier\\\",\\\"BernoulliNaiveBayes\\\",\\\"RandomForest\\\",\\\"LogisticRegression\\\",\\\"LinearSVM\\\",\\\"MultinomialNaiveBayes\\\",\\\"XGBoostClassifier\\\",\\\"LightGBM\\\",\\\"AveragedPerceptronClassifier\\\",\\\"SGD\\\",\\\"KNN\\\",\\\"TabnetClassifier\\\",\\\"GradientBoosting\\\",\\\"TensorFlowDNN\\\",\\\"DecisionTree\\\"],\\\"private_models\\\":[],\\\"auto_blacklist\\\":true,\\\"blacklist_samples_reached\\\":false,\\\"exclude_nan_labels\\\":true,\\\"verbosity\\\":20,\\\"_debug_log\\\":\\\"azureml_automl.log\\\",\\\"show_warnings\\\":false,\\\"model_explainability\\\":true,\\\"service_url\\\":null,\\\"sdk_url\\\":null,\\\"sdk_packages\\\":null,\\\"enable_onnx_compatible_models\\\":false,\\\"enable_split_onnx_featurizer_estimator_models\\\":false,\\\"vm_type\\\":\\\"STANDARD_DS2_V2\\\",\\\"telemetry_verbosity\\\":20,\\\"send_telemetry\\\":true,\\\"enable_dnn\\\":false,\\\"scenario\\\":\\\"AutoML\\\",\\\"environment_label\\\":null,\\\"save_mlflow\\\":false,\\\"enable_categorical_indicators\\\":false,\\\"force_text_dnn\\\":false,\\\"enable_feature_sweeping\\\":true,\\\"enable_early_stopping\\\":true,\\\"early_stopping_n_iters\\\":10,\\\"arguments\\\":null,\\\"dataset_id\\\":\\\"5c97a399-84ac-44c8-a88f-807f7c8a74cb\\\",\\\"hyperdrive_config\\\":null,\\\"validation_dataset_id\\\":null,\\\"run_source\\\":null,\\\"metrics\\\":null,\\\"enable_metric_confidence\\\":false,\\\"enable_ensembling\\\":true,\\\"enable_stack_ensembling\\\":true,\\\"ensemble_iterations\\\":15,\\\"enable_tf\\\":false,\\\"enable_subsampling\\\":null,\\\"subsample_seed\\\":null,\\\"enable_nimbusml\\\":false,\\\"enable_streaming\\\":false,\\\"force_streaming\\\":false,\\\"track_child_runs\\\":true,\\\"allowed_private_models\\\":[],\\\"label_column_name\\\":\\\"DEATH_EVENT\\\",\\\"weight_column_name\\\":null,\\\"cv_split_column_names\\\":null,\\\"enable_local_managed\\\":false,\\\"_local_managed_run_id\\\":null,\\\"cost_mode\\\":1,\\\"lag_length\\\":0,\\\"metric_operation\\\":\\\"maximize\\\",\\\"preprocess\\\":true}\", \"DataPrepJsonString\": \"{\\\\\\\"training_data\\\\\\\": {\\\\\\\"datasetId\\\\\\\": \\\\\\\"5c97a399-84ac-44c8-a88f-807f7c8a74cb\\\\\\\"}, \\\\\\\"datasets\\\\\\\": 0}\", \"EnableSubsampling\": null, \"runTemplate\": \"AutoML\", \"azureml.runsource\": \"automl\", \"display_task_type\": \"classification\", \"dependencies_versions\": \"{\\\"azureml-widgets\\\": \\\"1.44.0\\\", \\\"azureml-training-tabular\\\": \\\"1.44.0\\\", \\\"azureml-train\\\": \\\"1.44.0\\\", \\\"azureml-train-restclients-hyperdrive\\\": \\\"1.44.0\\\", \\\"azureml-train-core\\\": \\\"1.44.0\\\", \\\"azureml-train-automl\\\": \\\"1.44.0\\\", \\\"azureml-train-automl-runtime\\\": \\\"1.44.0\\\", \\\"azureml-train-automl-client\\\": \\\"1.44.0\\\", \\\"azureml-tensorboard\\\": \\\"1.44.0\\\", \\\"azureml-telemetry\\\": \\\"1.44.0\\\", \\\"azureml-sdk\\\": \\\"1.44.0\\\", \\\"azureml-samples\\\": \\\"0+unknown\\\", \\\"azureml-responsibleai\\\": \\\"1.44.0\\\", \\\"azureml-pipeline\\\": \\\"1.44.0\\\", \\\"azureml-pipeline-steps\\\": \\\"1.44.0\\\", \\\"azureml-pipeline-core\\\": \\\"1.44.0\\\", \\\"azureml-opendatasets\\\": \\\"1.44.0\\\", \\\"azureml-mlflow\\\": \\\"1.44.0\\\", \\\"azureml-interpret\\\": \\\"1.44.0\\\", \\\"azureml-inference-server-http\\\": \\\"0.7.4\\\", \\\"azureml-explain-model\\\": \\\"1.44.0\\\", \\\"azureml-defaults\\\": \\\"1.44.0\\\", \\\"azureml-dataset-runtime\\\": \\\"1.44.0\\\", \\\"azureml-dataprep\\\": \\\"4.2.2\\\", \\\"azureml-dataprep-rslex\\\": \\\"2.8.1\\\", \\\"azureml-dataprep-native\\\": \\\"38.0.0\\\", \\\"azureml-datadrift\\\": \\\"1.44.0\\\", \\\"azureml-core\\\": \\\"1.44.0\\\", \\\"azureml-contrib-services\\\": \\\"1.44.0\\\", \\\"azureml-contrib-server\\\": \\\"1.44.0\\\", \\\"azureml-contrib-reinforcementlearning\\\": \\\"1.44.0\\\", \\\"azureml-contrib-pipeline-steps\\\": \\\"1.44.0\\\", \\\"azureml-contrib-notebook\\\": \\\"1.44.0\\\", \\\"azureml-contrib-fairness\\\": \\\"1.44.0\\\", \\\"azureml-contrib-dataset\\\": \\\"1.44.0\\\", \\\"azureml-contrib-automl-pipeline-steps\\\": \\\"1.44.0\\\", \\\"azureml-cli-common\\\": \\\"1.44.0\\\", \\\"azureml-automl-runtime\\\": \\\"1.44.0\\\", \\\"azureml-automl-dnn-nlp\\\": \\\"1.44.0\\\", \\\"azureml-automl-core\\\": \\\"1.44.0\\\", \\\"azureml-accel-models\\\": \\\"1.44.0\\\"}\", \"_aml_system_scenario_identification\": \"Remote.Parent\", \"ClientType\": \"SDK\", \"environment_cpu_name\": \"AzureML-AutoML\", \"environment_cpu_label\": \"prod\", \"environment_gpu_name\": \"AzureML-AutoML-GPU\", \"environment_gpu_label\": \"prod\", \"root_attribution\": \"automl\", \"attribution\": \"AutoML\", \"Orchestrator\": \"AutoML\", \"CancelUri\": \"https://germanywestcentral.api.azureml.ms/jasmine/v1.0/subscriptions/4999417e-f032-4d4c-982a-c229e26aa825/resourceGroups/udacity-learning/providers/Microsoft.MachineLearningServices/workspaces/udacity/experimentids/ee5a7303-fffe-411c-b5af-3c20683fabb0/cancel/AutoML_3ad48a9e-b036-4cc8-aff4-bee9f8e1822c\", \"ClientSdkVersion\": \"1.46.1\", \"snapshotId\": \"00000000-0000-0000-0000-000000000000\", \"SetupRunId\": \"AutoML_3ad48a9e-b036-4cc8-aff4-bee9f8e1822c_setup\", \"SetupRunContainerId\": \"dcid.AutoML_3ad48a9e-b036-4cc8-aff4-bee9f8e1822c_setup\", \"FeaturizationRunJsonPath\": \"featurizer_container.json\", \"FeaturizationRunId\": \"AutoML_3ad48a9e-b036-4cc8-aff4-bee9f8e1822c_featurize\", \"ProblemInfoJsonString\": \"{\\\"dataset_num_categorical\\\": 0, \\\"is_sparse\\\": false, \\\"subsampling\\\": false, \\\"has_extra_col\\\": true, \\\"dataset_classes\\\": 2, \\\"dataset_features\\\": 12, \\\"dataset_samples\\\": 299, \\\"single_frequency_class_detected\\\": false}\", \"ModelExplainRunId\": \"AutoML_3ad48a9e-b036-4cc8-aff4-bee9f8e1822c_ModelExplain\"}, \"tags\": {\"model_explain_run\": \"best_run\", \"_aml_system_automl_run_workspace_id\": \"34030b3e-9b55-4503-8ad1-76293e9cef1c\", \"_aml_system_azureml.automlComponent\": \"AutoML\", \"pipeline_id\": \"\", \"score\": \"\", \"predicted_cost\": \"\", \"fit_time\": \"\", \"training_percent\": \"\", \"iteration\": \"\", \"run_preprocessor\": \"\", \"run_algorithm\": \"\", \"dynamic_allowlisting_iterations\": \"<25>;<30>;<35>;\", \"_aml_system_azureml.automl_early_exit_message\": \"No scores improved over last 10 iterations, so experiment stopped early. This early stopping behavior can be disabled by setting enable_early_stopping = False in AutoMLConfig for notebook/python SDK runs.\", \"automl_best_child_run_id\": \"AutoML_3ad48a9e-b036-4cc8-aff4-bee9f8e1822c_36\", \"model_explain_best_run_child_id\": \"AutoML_3ad48a9e-b036-4cc8-aff4-bee9f8e1822c_36\"}, \"end_time_utc\": \"2022-11-10T17:45:02.087473Z\", \"status\": \"Completed\", \"log_files\": {}, \"log_groups\": [], \"run_duration\": \"0:12:11\", \"run_number\": \"1668101570\", \"run_queued_details\": {\"status\": \"Completed\", \"details\": null}}, \"child_runs\": [{\"run_id\": \"AutoML_3ad48a9e-b036-4cc8-aff4-bee9f8e1822c_setup\", \"run_number\": 1668101582, \"metric\": null, \"status\": \"Completed\", \"run_type\": \"azureml.scriptrun\", \"training_percent\": null, \"start_time\": \"2022-11-10T17:33:16.257738Z\", \"end_time\": \"2022-11-10T17:34:04.551886Z\", \"created_time\": \"2022-11-10T17:33:02.478955Z\", \"created_time_dt\": \"2022-11-10T17:33:02.478955Z\", \"duration\": \"0:01:02\", \"iteration\": null, \"goal\": null, \"run_name\": \"Completed\", \"run_properties\": null}, {\"run_id\": \"AutoML_3ad48a9e-b036-4cc8-aff4-bee9f8e1822c_featurize\", \"run_number\": 1668101644, \"metric\": null, \"status\": \"Completed\", \"run_type\": \"automl.featurization\", \"training_percent\": null, \"start_time\": \"2022-11-10T17:34:05.127591Z\", \"end_time\": \"2022-11-10T17:34:48.389095Z\", \"created_time\": \"2022-11-10T17:34:04.899225Z\", \"created_time_dt\": \"2022-11-10T17:34:04.899225Z\", \"duration\": \"0:00:43\", \"iteration\": null, \"goal\": null, \"run_name\": \"Completed\", \"run_properties\": null}, {\"run_id\": \"AutoML_3ad48a9e-b036-4cc8-aff4-bee9f8e1822c_0\", \"run_number\": 1668101689, \"metric\": null, \"status\": \"Completed\", \"run_type\": null, \"training_percent\": \"100\", \"start_time\": \"2022-11-10T17:35:12.191545Z\", \"end_time\": \"2022-11-10T17:35:24.273976Z\", \"created_time\": \"2022-11-10T17:34:49.322159Z\", \"created_time_dt\": \"2022-11-10T17:34:49.322159Z\", \"duration\": \"0:00:34\", \"iteration\": \"0\", \"goal\": \"AUC_weighted_max\", \"run_name\": \"MaxAbsScaler, LightGBM\", \"run_properties\": \"copy=True\", \"primary_metric\": 0.8859522, \"best_metric\": 0.8859522}, {\"run_id\": \"AutoML_3ad48a9e-b036-4cc8-aff4-bee9f8e1822c_worker_0\", \"run_number\": 1668101690, \"metric\": null, \"status\": \"Completed\", \"run_type\": \"azureml.scriptrun\", \"training_percent\": null, \"start_time\": \"2022-11-10T17:35:03.14454Z\", \"end_time\": \"2022-11-10T17:36:36.994542Z\", \"created_time\": \"2022-11-10T17:34:50.651534Z\", \"created_time_dt\": \"2022-11-10T17:34:50.651534Z\", \"duration\": \"0:01:46\", \"iteration\": null, \"goal\": null, \"run_name\": \"Completed\", \"run_properties\": null}, {\"run_id\": \"AutoML_3ad48a9e-b036-4cc8-aff4-bee9f8e1822c_6\", \"run_number\": 1668101691, \"metric\": null, \"status\": \"Completed\", \"run_type\": null, \"training_percent\": \"100\", \"start_time\": \"2022-11-10T17:35:29.418819Z\", \"end_time\": \"2022-11-10T17:35:45.577382Z\", \"created_time\": \"2022-11-10T17:34:51.048485Z\", \"created_time_dt\": \"2022-11-10T17:34:51.048485Z\", \"duration\": \"0:00:54\", \"iteration\": \"6\", \"goal\": \"AUC_weighted_max\", \"run_name\": \"SparseNormalizer, XGBoostClassifier\", \"run_properties\": \"copy=True, norm='max'\", \"primary_metric\": 0.8696498, \"best_metric\": 0.8859522}, {\"run_id\": \"AutoML_3ad48a9e-b036-4cc8-aff4-bee9f8e1822c_worker_1\", \"run_number\": 1668101692, \"metric\": null, \"status\": \"Completed\", \"run_type\": \"azureml.scriptrun\", \"training_percent\": null, \"start_time\": \"2022-11-10T17:35:04.54417Z\", \"end_time\": \"2022-11-10T17:36:47.106454Z\", \"created_time\": \"2022-11-10T17:34:52.13702Z\", \"created_time_dt\": \"2022-11-10T17:34:52.13702Z\", \"duration\": \"0:01:54\", \"iteration\": null, \"goal\": null, \"run_name\": \"Completed\", \"run_properties\": null}, {\"run_id\": \"AutoML_3ad48a9e-b036-4cc8-aff4-bee9f8e1822c_15\", \"run_number\": 1668101693, \"metric\": null, \"status\": \"Completed\", \"run_type\": null, \"training_percent\": \"100\", \"start_time\": \"2022-11-10T17:37:05.516953Z\", \"end_time\": \"2022-11-10T17:37:22.188206Z\", \"created_time\": \"2022-11-10T17:34:53.614895Z\", \"created_time_dt\": \"2022-11-10T17:34:53.614895Z\", \"duration\": \"0:02:28\", \"iteration\": \"15\", \"goal\": \"AUC_weighted_max\", \"run_name\": \"SparseNormalizer, XGBoostClassifier\", \"run_properties\": \"copy=True, norm='max'\", \"primary_metric\": 0.86903998, \"best_metric\": 0.8859522}, {\"run_id\": \"AutoML_3ad48a9e-b036-4cc8-aff4-bee9f8e1822c_17\", \"run_number\": 1668101694, \"metric\": null, \"status\": \"Completed\", \"run_type\": null, \"training_percent\": \"100\", \"start_time\": \"2022-11-10T17:37:39.438996Z\", \"end_time\": \"2022-11-10T17:37:55.935834Z\", \"created_time\": \"2022-11-10T17:34:54.277317Z\", \"created_time_dt\": \"2022-11-10T17:34:54.277317Z\", \"duration\": \"0:03:01\", \"iteration\": \"17\", \"goal\": \"AUC_weighted_max\", \"run_name\": \"MinMaxScaler, ExtremeRandomTrees\", \"run_properties\": \"copy=True, feature_range=(0, 1\", \"primary_metric\": 0.90441943, \"best_metric\": 0.90441943}, {\"run_id\": \"AutoML_3ad48a9e-b036-4cc8-aff4-bee9f8e1822c_worker_3\", \"run_number\": 1668101695, \"metric\": null, \"status\": \"Completed\", \"run_type\": \"azureml.scriptrun\", \"training_percent\": null, \"start_time\": \"2022-11-10T17:37:07.440932Z\", \"end_time\": \"2022-11-10T17:38:32.550483Z\", \"created_time\": \"2022-11-10T17:34:55.034171Z\", \"created_time_dt\": \"2022-11-10T17:34:55.034171Z\", \"duration\": \"0:03:37\", \"iteration\": null, \"goal\": null, \"run_name\": \"Completed\", \"run_properties\": null}, {\"run_id\": \"AutoML_3ad48a9e-b036-4cc8-aff4-bee9f8e1822c_21\", \"run_number\": 1668101883, \"metric\": null, \"status\": \"Completed\", \"run_type\": \"azureml.scriptrun\", \"training_percent\": \"100\", \"start_time\": \"2022-11-10T17:38:57.107975Z\", \"end_time\": \"2022-11-10T17:39:00.854503Z\", \"created_time\": \"2022-11-10T17:38:03.887896Z\", \"created_time_dt\": \"2022-11-10T17:38:03.887896Z\", \"duration\": \"0:00:56\", \"iteration\": \"21\", \"goal\": \"AUC_weighted_max\", \"run_name\": \"StandardScalerWrapper, RandomForest\", \"run_properties\": \"copy=True, with_mean=False, with_std=False\", \"primary_metric\": 0.90986652, \"best_metric\": 0.90986652}, {\"run_id\": \"AutoML_3ad48a9e-b036-4cc8-aff4-bee9f8e1822c_22\", \"run_number\": 1668101908, \"metric\": null, \"status\": \"Completed\", \"run_type\": \"azureml.scriptrun\", \"training_percent\": \"100\", \"start_time\": \"2022-11-10T17:39:36.447926Z\", \"end_time\": \"2022-11-10T17:39:40.399319Z\", \"created_time\": \"2022-11-10T17:38:28.689143Z\", \"created_time_dt\": \"2022-11-10T17:38:28.689143Z\", \"duration\": \"0:01:11\", \"iteration\": \"22\", \"goal\": \"AUC_weighted_max\", \"run_name\": \"MaxAbsScaler, LightGBM\", \"run_properties\": \"copy=True\", \"primary_metric\": 0.90486723, \"best_metric\": 0.90986652}, {\"run_id\": \"AutoML_3ad48a9e-b036-4cc8-aff4-bee9f8e1822c_24\", \"run_number\": 1668101942, \"metric\": null, \"status\": \"Completed\", \"run_type\": \"azureml.scriptrun\", \"training_percent\": \"100\", \"start_time\": \"2022-11-10T17:39:51.947855Z\", \"end_time\": \"2022-11-10T17:39:55.764764Z\", \"created_time\": \"2022-11-10T17:39:02.783861Z\", \"created_time_dt\": \"2022-11-10T17:39:02.783861Z\", \"duration\": \"0:00:52\", \"iteration\": \"24\", \"goal\": \"AUC_weighted_max\", \"run_name\": \"StandardScalerWrapper, ExtremeRandomTrees\", \"run_properties\": \"copy=True, with_mean=False, with_std=True\", \"primary_metric\": 0.91096213, \"best_metric\": 0.91096213}, {\"run_id\": \"AutoML_3ad48a9e-b036-4cc8-aff4-bee9f8e1822c_25\", \"run_number\": 1668101955, \"metric\": null, \"status\": \"Completed\", \"run_type\": \"azureml.scriptrun\", \"training_percent\": \"100\", \"start_time\": \"2022-11-10T17:40:25.717874Z\", \"end_time\": \"2022-11-10T17:40:29.580018Z\", \"created_time\": \"2022-11-10T17:39:15.840102Z\", \"created_time_dt\": \"2022-11-10T17:39:15.840102Z\", \"duration\": \"0:01:13\", \"iteration\": \"25\", \"goal\": \"AUC_weighted_max\", \"run_name\": \"RobustScaler, ExtremeRandomTrees\", \"run_properties\": \"copy=True, quantile_range=[25, 75], with_centering=False,\\n             with_scaling=True\", \"primary_metric\": 0.7472446, \"best_metric\": 0.91096213}, {\"run_id\": \"AutoML_3ad48a9e-b036-4cc8-aff4-bee9f8e1822c_26\", \"run_number\": 1668101981, \"metric\": null, \"status\": \"Completed\", \"run_type\": \"azureml.scriptrun\", \"training_percent\": \"100\", \"start_time\": \"2022-11-10T17:40:56.183196Z\", \"end_time\": \"2022-11-10T17:40:59.90486Z\", \"created_time\": \"2022-11-10T17:39:41.557863Z\", \"created_time_dt\": \"2022-11-10T17:39:41.557863Z\", \"duration\": \"0:01:18\", \"iteration\": \"26\", \"goal\": \"AUC_weighted_max\", \"run_name\": \"StandardScalerWrapper, LogisticRegression\", \"run_properties\": \"copy=True, with_mean=False, with_std=True\", \"primary_metric\": 0.86726488, \"best_metric\": 0.91096213}, {\"run_id\": \"AutoML_3ad48a9e-b036-4cc8-aff4-bee9f8e1822c_27\", \"run_number\": 1668101996, \"metric\": null, \"status\": \"Completed\", \"run_type\": \"azureml.scriptrun\", \"training_percent\": \"100\", \"start_time\": \"2022-11-10T17:41:03.620102Z\", \"end_time\": \"2022-11-10T17:41:07.78646Z\", \"created_time\": \"2022-11-10T17:39:56.950223Z\", \"created_time_dt\": \"2022-11-10T17:39:56.950223Z\", \"duration\": \"0:01:10\", \"iteration\": \"27\", \"goal\": \"AUC_weighted_max\", \"run_name\": \"MinMaxScaler, RandomForest\", \"run_properties\": \"copy=True, feature_range=(0, 1\", \"primary_metric\": 0.90021609, \"best_metric\": 0.91096213}, {\"run_id\": \"AutoML_3ad48a9e-b036-4cc8-aff4-bee9f8e1822c_28\", \"run_number\": 1668102020, \"metric\": null, \"status\": \"Completed\", \"run_type\": \"azureml.scriptrun\", \"training_percent\": \"100\", \"start_time\": \"2022-11-10T17:41:37.26668Z\", \"end_time\": \"2022-11-10T17:41:40.886415Z\", \"created_time\": \"2022-11-10T17:40:20.356566Z\", \"created_time_dt\": \"2022-11-10T17:40:20.356566Z\", \"duration\": \"0:01:20\", \"iteration\": \"28\", \"goal\": \"AUC_weighted_max\", \"run_name\": \"StandardScalerWrapper, ExtremeRandomTrees\", \"run_properties\": \"copy=True, with_mean=True, with_std=True\", \"primary_metric\": 0.86373373, \"best_metric\": 0.91096213}, {\"run_id\": \"AutoML_3ad48a9e-b036-4cc8-aff4-bee9f8e1822c_29\", \"run_number\": 1668102030, \"metric\": null, \"status\": \"Completed\", \"run_type\": \"azureml.scriptrun\", \"training_percent\": \"100\", \"start_time\": \"2022-11-10T17:41:43.232585Z\", \"end_time\": \"2022-11-10T17:41:46.942849Z\", \"created_time\": \"2022-11-10T17:40:30.774755Z\", \"created_time_dt\": \"2022-11-10T17:40:30.774755Z\", \"duration\": \"0:01:16\", \"iteration\": \"29\", \"goal\": \"AUC_weighted_max\", \"run_name\": \"StandardScalerWrapper, XGBoostClassifier\", \"run_properties\": \"copy=True, with_mean=False, with_std=False\", \"primary_metric\": 0.87820418, \"best_metric\": 0.91096213}, {\"run_id\": \"AutoML_3ad48a9e-b036-4cc8-aff4-bee9f8e1822c_30\", \"run_number\": 1668102061, \"metric\": null, \"status\": \"Completed\", \"run_type\": \"azureml.scriptrun\", \"training_percent\": \"100\", \"start_time\": \"2022-11-10T17:42:17.425494Z\", \"end_time\": \"2022-11-10T17:42:21.095299Z\", \"created_time\": \"2022-11-10T17:41:01.877735Z\", \"created_time_dt\": \"2022-11-10T17:41:01.877735Z\", \"duration\": \"0:01:19\", \"iteration\": \"30\", \"goal\": \"AUC_weighted_max\", \"run_name\": \"RobustScaler, ExtremeRandomTrees\", \"run_properties\": \"copy=True, quantile_range=[25, 75], with_centering=True,\\n             with_scaling=True\", \"primary_metric\": 0.60620661, \"best_metric\": 0.91096213}, {\"run_id\": \"AutoML_3ad48a9e-b036-4cc8-aff4-bee9f8e1822c_31\", \"run_number\": 1668102068, \"metric\": null, \"status\": \"Completed\", \"run_type\": \"azureml.scriptrun\", \"training_percent\": \"100\", \"start_time\": \"2022-11-10T17:42:22.234041Z\", \"end_time\": \"2022-11-10T17:42:25.960347Z\", \"created_time\": \"2022-11-10T17:41:08.951285Z\", \"created_time_dt\": \"2022-11-10T17:41:08.951285Z\", \"duration\": \"0:01:17\", \"iteration\": \"31\", \"goal\": \"AUC_weighted_max\", \"run_name\": \"StandardScalerWrapper, XGBoostClassifier\", \"run_properties\": \"copy=True, with_mean=False, with_std=False\", \"primary_metric\": 0.8975927, \"best_metric\": 0.91096213}, {\"run_id\": \"AutoML_3ad48a9e-b036-4cc8-aff4-bee9f8e1822c_32\", \"run_number\": 1668102102, \"metric\": null, \"status\": \"Completed\", \"run_type\": \"azureml.scriptrun\", \"training_percent\": \"100\", \"start_time\": \"2022-11-10T17:42:56.843906Z\", \"end_time\": \"2022-11-10T17:43:00.563213Z\", \"created_time\": \"2022-11-10T17:41:42.087498Z\", \"created_time_dt\": \"2022-11-10T17:41:42.087498Z\", \"duration\": \"0:01:18\", \"iteration\": \"32\", \"goal\": \"AUC_weighted_max\", \"run_name\": \"StandardScalerWrapper, XGBoostClassifier\", \"run_properties\": \"copy=True, with_mean=False, with_std=False\", \"primary_metric\": 0.90003955, \"best_metric\": 0.91096213}, {\"run_id\": \"AutoML_3ad48a9e-b036-4cc8-aff4-bee9f8e1822c_33\", \"run_number\": 1668102108, \"metric\": null, \"status\": \"Canceled\", \"run_type\": \"azureml.scriptrun\", \"training_percent\": \"100\", \"start_time\": \"2022-11-10T17:43:01.104938Z\", \"end_time\": \"2022-11-10T17:43:11.831606Z\", \"created_time\": \"2022-11-10T17:41:48.250584Z\", \"created_time_dt\": \"2022-11-10T17:41:48.250584Z\", \"duration\": \"0:01:23\", \"iteration\": \"33\", \"goal\": \"AUC_weighted_max\", \"run_name\": \"MinMaxScaler, GradientBoosting\", \"run_properties\": \"copy=True, feature_range=(0, 1\", \"primary_metric\": 0.90114604, \"best_metric\": 0.91096213}, {\"run_id\": \"AutoML_3ad48a9e-b036-4cc8-aff4-bee9f8e1822c_34\", \"run_number\": 1668102142, \"metric\": null, \"status\": \"Canceled\", \"run_type\": \"azureml.scriptrun\", \"training_percent\": \"100\", \"start_time\": \"2022-11-10T17:43:01.119119Z\", \"end_time\": \"2022-11-10T17:43:01.274061Z\", \"created_time\": \"2022-11-10T17:42:22.254509Z\", \"created_time_dt\": \"2022-11-10T17:42:22.254509Z\", \"duration\": \"0:00:39\", \"iteration\": \"34\", \"goal\": null, \"run_name\": \"Canceled\", \"run_properties\": null}, {\"run_id\": \"AutoML_3ad48a9e-b036-4cc8-aff4-bee9f8e1822c_35\", \"run_number\": 1668102147, \"metric\": null, \"status\": \"Canceled\", \"run_type\": \"azureml.scriptrun\", \"training_percent\": \"100\", \"start_time\": \"2022-11-10T17:43:01.110505Z\", \"end_time\": \"2022-11-10T17:43:01.351638Z\", \"created_time\": \"2022-11-10T17:42:27.765305Z\", \"created_time_dt\": \"2022-11-10T17:42:27.765305Z\", \"duration\": \"0:00:33\", \"iteration\": \"35\", \"goal\": null, \"run_name\": \"Canceled\", \"run_properties\": null}, {\"run_id\": \"AutoML_3ad48a9e-b036-4cc8-aff4-bee9f8e1822c_36\", \"run_number\": 1668102192, \"metric\": null, \"status\": \"Completed\", \"run_type\": \"azureml.scriptrun\", \"training_percent\": \"100\", \"start_time\": \"2022-11-10T17:44:53.657253Z\", \"end_time\": \"2022-11-10T17:44:57.376447Z\", \"created_time\": \"2022-11-10T17:43:12.260564Z\", \"created_time_dt\": \"2022-11-10T17:43:12.260564Z\", \"duration\": \"0:01:45\", \"iteration\": \"36\", \"goal\": \"AUC_weighted_max\", \"run_name\": \"VotingEnsemble\", \"run_properties\": \"classification_labels=numpy.array([0, 1]\", \"primary_metric\": 0.92205294, \"best_metric\": 0.92205294}], \"children_metrics\": {\"categories\": [0], \"series\": {\"matthews_correlation\": [{\"categories\": [\"0\", \"6\", \"15\", \"17\", \"21\", \"22\", \"24\", \"25\", \"26\", \"27\", \"28\", \"29\", \"30\", \"31\", \"32\", \"33\", \"36\"], \"mode\": \"markers\", \"name\": \"matthews_correlation\", \"stepped\": false, \"type\": \"scatter\", \"data\": [0.5911058017587592, 0.5773574441757808, 0.553854056598631, 0.6436364450155709, 0.629600074838094, 0.6122406662654926, 0.6387616508996994, 0.0, 0.5593146847205488, 0.6709562911551054, 0.5643147221110685, 0.6183674641484064, 0.0, 0.6357466107750371, 0.6235219333115417, 0.6420356529436251, 0.6736872328817212]}, {\"categories\": [\"0\", \"6\", \"15\", \"17\", \"21\", \"22\", \"24\", \"25\", \"26\", \"27\", \"28\", \"29\", \"30\", \"31\", \"32\", \"33\", \"36\"], \"mode\": \"lines\", \"name\": \"matthews_correlation_max\", \"stepped\": true, \"type\": \"scatter\", \"data\": [0.5911058017587592, 0.5911058017587592, 0.5911058017587592, 0.6436364450155709, 0.6436364450155709, 0.6436364450155709, 0.6436364450155709, 0.6436364450155709, 0.6436364450155709, 0.6709562911551054, 0.6709562911551054, 0.6709562911551054, 0.6709562911551054, 0.6709562911551054, 0.6709562911551054, 0.6709562911551054, 0.6736872328817212]}], \"AUC_macro\": [{\"categories\": [\"0\", \"6\", \"15\", \"17\", \"21\", \"22\", \"24\", \"25\", \"26\", \"27\", \"28\", \"29\", \"30\", \"31\", \"32\", \"33\", \"36\"], \"mode\": \"markers\", \"name\": \"AUC_macro\", \"stepped\": false, \"type\": \"scatter\", \"data\": [0.8859521958215462, 0.869649795303044, 0.8690399845237415, 0.9044194297019156, 0.9098665223665223, 0.9048672340162454, 0.910962131742499, 0.7472446035210867, 0.8672648770459506, 0.9002160850501246, 0.8637337271694616, 0.8782041816469782, 0.6062066088990525, 0.8975927046901623, 0.9000395483622884, 0.9011460362978724, 0.9220529379074577]}, {\"categories\": [\"0\", \"6\", \"15\", \"17\", \"21\", \"22\", \"24\", \"25\", \"26\", \"27\", \"28\", \"29\", \"30\", \"31\", \"32\", \"33\", \"36\"], \"mode\": \"lines\", \"name\": \"AUC_macro_max\", \"stepped\": true, \"type\": \"scatter\", \"data\": [0.8859521958215462, 0.8859521958215462, 0.8859521958215462, 0.9044194297019156, 0.9098665223665223, 0.9098665223665223, 0.910962131742499, 0.910962131742499, 0.910962131742499, 0.910962131742499, 0.910962131742499, 0.910962131742499, 0.910962131742499, 0.910962131742499, 0.910962131742499, 0.910962131742499, 0.9220529379074577]}], \"recall_score_weighted\": [{\"categories\": [\"0\", \"6\", \"15\", \"17\", \"21\", \"22\", \"24\", \"25\", \"26\", \"27\", \"28\", \"29\", \"30\", \"31\", \"32\", \"33\", \"36\"], \"mode\": \"markers\", \"name\": \"recall_score_weighted\", \"stepped\": false, \"type\": \"scatter\", \"data\": [0.825945945945946, 0.825945945945946, 0.8127477477477478, 0.8459909909909911, 0.8426576576576578, 0.8326576576576576, 0.8392342342342342, 0.6790990990990992, 0.8125225225225226, 0.8525675675675676, 0.8023423423423424, 0.8359009009009009, 0.6790990990990992, 0.8392792792792793, 0.8359009009009009, 0.8393243243243244, 0.8593693693693694]}, {\"categories\": [\"0\", \"6\", \"15\", \"17\", \"21\", \"22\", \"24\", \"25\", \"26\", \"27\", \"28\", \"29\", \"30\", \"31\", \"32\", \"33\", \"36\"], \"mode\": \"lines\", \"name\": \"recall_score_weighted_max\", \"stepped\": true, \"type\": \"scatter\", \"data\": [0.825945945945946, 0.825945945945946, 0.825945945945946, 0.8459909909909911, 0.8459909909909911, 0.8459909909909911, 0.8459909909909911, 0.8459909909909911, 0.8459909909909911, 0.8525675675675676, 0.8525675675675676, 0.8525675675675676, 0.8525675675675676, 0.8525675675675676, 0.8525675675675676, 0.8525675675675676, 0.8593693693693694]}], \"f1_score_weighted\": [{\"categories\": [\"0\", \"6\", \"15\", \"17\", \"21\", \"22\", \"24\", \"25\", \"26\", \"27\", \"28\", \"29\", \"30\", \"31\", \"32\", \"33\", \"36\"], \"mode\": \"markers\", \"name\": \"f1_score_weighted\", \"stepped\": false, \"type\": \"scatter\", \"data\": [0.8223577453628388, 0.8170328824033972, 0.8063013052828988, 0.8455562939469208, 0.8393231325208566, 0.824216880574663, 0.8382276574079869, 0.5525023137601632, 0.8077632304306199, 0.8554157585233007, 0.8061771702254659, 0.831439379309623, 0.5525023137601632, 0.8357286986542306, 0.8323062866595193, 0.8355515069497871, 0.852619576037233]}, {\"categories\": [\"0\", \"6\", \"15\", \"17\", \"21\", \"22\", \"24\", \"25\", \"26\", \"27\", \"28\", \"29\", \"30\", \"31\", \"32\", \"33\", \"36\"], \"mode\": \"lines\", \"name\": \"f1_score_weighted_max\", \"stepped\": true, \"type\": \"scatter\", \"data\": [0.8223577453628388, 0.8223577453628388, 0.8223577453628388, 0.8455562939469208, 0.8455562939469208, 0.8455562939469208, 0.8455562939469208, 0.8455562939469208, 0.8455562939469208, 0.8554157585233007, 0.8554157585233007, 0.8554157585233007, 0.8554157585233007, 0.8554157585233007, 0.8554157585233007, 0.8554157585233007, 0.8554157585233007]}], \"recall_score_micro\": [{\"categories\": [\"0\", \"6\", \"15\", \"17\", \"21\", \"22\", \"24\", \"25\", \"26\", \"27\", \"28\", \"29\", \"30\", \"31\", \"32\", \"33\", \"36\"], \"mode\": \"markers\", \"name\": \"recall_score_micro\", \"stepped\": false, \"type\": \"scatter\", \"data\": [0.825945945945946, 0.825945945945946, 0.8127477477477478, 0.8459909909909911, 0.8426576576576578, 0.8326576576576576, 0.8392342342342342, 0.6790990990990992, 0.8125225225225226, 0.8525675675675676, 0.8023423423423424, 0.8359009009009009, 0.6790990990990992, 0.8392792792792793, 0.8359009009009009, 0.8393243243243244, 0.8593693693693694]}, {\"categories\": [\"0\", \"6\", \"15\", \"17\", \"21\", \"22\", \"24\", \"25\", \"26\", \"27\", \"28\", \"29\", \"30\", \"31\", \"32\", \"33\", \"36\"], \"mode\": \"lines\", \"name\": \"recall_score_micro_max\", \"stepped\": true, \"type\": \"scatter\", \"data\": [0.825945945945946, 0.825945945945946, 0.825945945945946, 0.8459909909909911, 0.8459909909909911, 0.8459909909909911, 0.8459909909909911, 0.8459909909909911, 0.8459909909909911, 0.8525675675675676, 0.8525675675675676, 0.8525675675675676, 0.8525675675675676, 0.8525675675675676, 0.8525675675675676, 0.8525675675675676, 0.8593693693693694]}], \"AUC_micro\": [{\"categories\": [\"0\", \"6\", \"15\", \"17\", \"21\", \"22\", \"24\", \"25\", \"26\", \"27\", \"28\", \"29\", \"30\", \"31\", \"32\", \"33\", \"36\"], \"mode\": \"markers\", \"name\": \"AUC_micro\", \"stepped\": false, \"type\": \"scatter\", \"data\": [0.9012668614560506, 0.8930261991721451, 0.8859353380407435, 0.9142192435678922, 0.9172889294700106, 0.8997551416281147, 0.9163048048048048, 0.7820617482347213, 0.8897131239347456, 0.9099205340475611, 0.8726383085788492, 0.8907178069961854, 0.7219404999594189, 0.9108097151205259, 0.9063096420745069, 0.9087613424235046, 0.9208236182128073]}, {\"categories\": [\"0\", \"6\", \"15\", \"17\", \"21\", \"22\", \"24\", \"25\", \"26\", \"27\", \"28\", \"29\", \"30\", \"31\", \"32\", \"33\", \"36\"], \"mode\": \"lines\", \"name\": \"AUC_micro_max\", \"stepped\": true, \"type\": \"scatter\", \"data\": [0.9012668614560506, 0.9012668614560506, 0.9012668614560506, 0.9142192435678922, 0.9172889294700106, 0.9172889294700106, 0.9172889294700106, 0.9172889294700106, 0.9172889294700106, 0.9172889294700106, 0.9172889294700106, 0.9172889294700106, 0.9172889294700106, 0.9172889294700106, 0.9172889294700106, 0.9172889294700106, 0.9208236182128073]}], \"norm_macro_recall\": [{\"categories\": [\"0\", \"6\", \"15\", \"17\", \"21\", \"22\", \"24\", \"25\", \"26\", \"27\", \"28\", \"29\", \"30\", \"31\", \"32\", \"33\", \"36\"], \"mode\": \"markers\", \"name\": \"norm_macro_recall\", \"stepped\": false, \"type\": \"scatter\", \"data\": [0.5796928373729222, 0.5201719831486781, 0.5217277700328549, 0.6411902519953369, 0.6121994511295359, 0.5741913943714791, 0.6335663688947588, 0.0, 0.5327381971449767, 0.6919253063320859, 0.5846276271594067, 0.5956740274007224, 0.0, 0.6218344665378563, 0.6125646853930753, 0.6265272274806173, 0.639266199117894]}, {\"categories\": [\"0\", \"6\", \"15\", \"17\", \"21\", \"22\", \"24\", \"25\", \"26\", \"27\", \"28\", \"29\", \"30\", \"31\", \"32\", \"33\", \"36\"], \"mode\": \"lines\", \"name\": \"norm_macro_recall_max\", \"stepped\": true, \"type\": \"scatter\", \"data\": [0.5796928373729222, 0.5796928373729222, 0.5796928373729222, 0.6411902519953369, 0.6411902519953369, 0.6411902519953369, 0.6411902519953369, 0.6411902519953369, 0.6411902519953369, 0.6919253063320859, 0.6919253063320859, 0.6919253063320859, 0.6919253063320859, 0.6919253063320859, 0.6919253063320859, 0.6919253063320859, 0.6919253063320859]}], \"average_precision_score_weighted\": [{\"categories\": [\"0\", \"6\", \"15\", \"17\", \"21\", \"22\", \"24\", \"25\", \"26\", \"27\", \"28\", \"29\", \"30\", \"31\", \"32\", \"33\", \"36\"], \"mode\": \"markers\", \"name\": \"average_precision_score_weighted\", \"stepped\": false, \"type\": \"scatter\", \"data\": [0.897705223504243, 0.8879171047428345, 0.884508611406698, 0.9129760294705145, 0.917559747714785, 0.917597993326316, 0.9173231373165984, 0.7776746239486603, 0.8834433424464119, 0.9066164952744625, 0.8809662369413132, 0.8913945751020689, 0.6840073482329252, 0.9077052565555666, 0.9081727906092162, 0.9098207761419839, 0.9261316739799159]}, {\"categories\": [\"0\", \"6\", \"15\", \"17\", \"21\", \"22\", \"24\", \"25\", \"26\", \"27\", \"28\", \"29\", \"30\", \"31\", \"32\", \"33\", \"36\"], \"mode\": \"lines\", \"name\": \"average_precision_score_weighted_max\", \"stepped\": true, \"type\": \"scatter\", \"data\": [0.897705223504243, 0.897705223504243, 0.897705223504243, 0.9129760294705145, 0.917559747714785, 0.917597993326316, 0.917597993326316, 0.917597993326316, 0.917597993326316, 0.917597993326316, 0.917597993326316, 0.917597993326316, 0.917597993326316, 0.917597993326316, 0.917597993326316, 0.917597993326316, 0.9261316739799159]}], \"log_loss\": [{\"categories\": [\"0\", \"6\", \"15\", \"17\", \"21\", \"22\", \"24\", \"25\", \"26\", \"27\", \"28\", \"29\", \"30\", \"31\", \"32\", \"33\", \"36\"], \"mode\": \"markers\", \"name\": \"log_loss\", \"stepped\": false, \"type\": \"scatter\", \"data\": [0.4862782439584045, 0.41249076099808013, 0.41824652847443744, 0.3736615016318198, 0.3663499868734581, 0.4404682487172744, 0.3746605909294397, 0.6289678617121126, 0.4148589075676129, 0.47878812060164333, 0.5819885009975436, 0.4951642215318018, 0.6346140993934632, 0.38724749564525185, 0.4321074003110826, 0.374598621326365, 0.3952271502469328]}, {\"categories\": [\"0\", \"6\", \"15\", \"17\", \"21\", \"22\", \"24\", \"25\", \"26\", \"27\", \"28\", \"29\", \"30\", \"31\", \"32\", \"33\", \"36\"], \"mode\": \"lines\", \"name\": \"log_loss_min\", \"stepped\": true, \"type\": \"scatter\", \"data\": [0.4862782439584045, 0.41249076099808013, 0.41249076099808013, 0.3736615016318198, 0.3663499868734581, 0.3663499868734581, 0.3663499868734581, 0.3663499868734581, 0.3663499868734581, 0.3663499868734581, 0.3663499868734581, 0.3663499868734581, 0.3663499868734581, 0.3663499868734581, 0.3663499868734581, 0.3663499868734581, 0.3663499868734581]}], \"recall_score_macro\": [{\"categories\": [\"0\", \"6\", \"15\", \"17\", \"21\", \"22\", \"24\", \"25\", \"26\", \"27\", \"28\", \"29\", \"30\", \"31\", \"32\", \"33\", \"36\"], \"mode\": \"markers\", \"name\": \"recall_score_macro\", \"stepped\": false, \"type\": \"scatter\", \"data\": [0.7898464186864611, 0.760085991574339, 0.7608638850164273, 0.8205951259976685, 0.806099725564768, 0.7870956971857396, 0.8167831844473794, 0.5, 0.7663690985724882, 0.845962653166043, 0.7923138135797034, 0.7978370137003612, 0.5, 0.8109172332689282, 0.8062823426965376, 0.8132636137403086, 0.8196330995589469]}, {\"categories\": [\"0\", \"6\", \"15\", \"17\", \"21\", \"22\", \"24\", \"25\", \"26\", \"27\", \"28\", \"29\", \"30\", \"31\", \"32\", \"33\", \"36\"], \"mode\": \"lines\", \"name\": \"recall_score_macro_max\", \"stepped\": true, \"type\": \"scatter\", \"data\": [0.7898464186864611, 0.7898464186864611, 0.7898464186864611, 0.8205951259976685, 0.8205951259976685, 0.8205951259976685, 0.8205951259976685, 0.8205951259976685, 0.8205951259976685, 0.845962653166043, 0.845962653166043, 0.845962653166043, 0.845962653166043, 0.845962653166043, 0.845962653166043, 0.845962653166043, 0.845962653166043]}], \"f1_score_micro\": [{\"categories\": [\"0\", \"6\", \"15\", \"17\", \"21\", \"22\", \"24\", \"25\", \"26\", \"27\", \"28\", \"29\", \"30\", \"31\", \"32\", \"33\", \"36\"], \"mode\": \"markers\", \"name\": \"f1_score_micro\", \"stepped\": false, \"type\": \"scatter\", \"data\": [0.825945945945946, 0.825945945945946, 0.8127477477477478, 0.8459909909909911, 0.8426576576576578, 0.8326576576576576, 0.8392342342342343, 0.6790990990990992, 0.8125225225225224, 0.8525675675675675, 0.8023423423423424, 0.835900900900901, 0.6790990990990992, 0.8392792792792793, 0.8359009009009009, 0.8393243243243244, 0.8593693693693694]}, {\"categories\": [\"0\", \"6\", \"15\", \"17\", \"21\", \"22\", \"24\", \"25\", \"26\", \"27\", \"28\", \"29\", \"30\", \"31\", \"32\", \"33\", \"36\"], \"mode\": \"lines\", \"name\": \"f1_score_micro_max\", \"stepped\": true, \"type\": \"scatter\", \"data\": [0.825945945945946, 0.825945945945946, 0.825945945945946, 0.8459909909909911, 0.8459909909909911, 0.8459909909909911, 0.8459909909909911, 0.8459909909909911, 0.8459909909909911, 0.8525675675675675, 0.8525675675675675, 0.8525675675675675, 0.8525675675675675, 0.8525675675675675, 0.8525675675675675, 0.8525675675675675, 0.8593693693693694]}], \"precision_score_micro\": [{\"categories\": [\"0\", \"6\", \"15\", \"17\", \"21\", \"22\", \"24\", \"25\", \"26\", \"27\", \"28\", \"29\", \"30\", \"31\", \"32\", \"33\", \"36\"], \"mode\": \"markers\", \"name\": \"precision_score_micro\", \"stepped\": false, \"type\": \"scatter\", \"data\": [0.825945945945946, 0.825945945945946, 0.8127477477477478, 0.8459909909909911, 0.8426576576576578, 0.8326576576576576, 0.8392342342342342, 0.6790990990990992, 0.8125225225225226, 0.8525675675675676, 0.8023423423423424, 0.8359009009009009, 0.6790990990990992, 0.8392792792792793, 0.8359009009009009, 0.8393243243243244, 0.8593693693693694]}, {\"categories\": [\"0\", \"6\", \"15\", \"17\", \"21\", \"22\", \"24\", \"25\", \"26\", \"27\", \"28\", \"29\", \"30\", \"31\", \"32\", \"33\", \"36\"], \"mode\": \"lines\", \"name\": \"precision_score_micro_max\", \"stepped\": true, \"type\": \"scatter\", \"data\": [0.825945945945946, 0.825945945945946, 0.825945945945946, 0.8459909909909911, 0.8459909909909911, 0.8459909909909911, 0.8459909909909911, 0.8459909909909911, 0.8459909909909911, 0.8525675675675676, 0.8525675675675676, 0.8525675675675676, 0.8525675675675676, 0.8525675675675676, 0.8525675675675676, 0.8525675675675676, 0.8593693693693694]}], \"average_precision_score_micro\": [{\"categories\": [\"0\", \"6\", \"15\", \"17\", \"21\", \"22\", \"24\", \"25\", \"26\", \"27\", \"28\", \"29\", \"30\", \"31\", \"32\", \"33\", \"36\"], \"mode\": \"markers\", \"name\": \"average_precision_score_micro\", \"stepped\": false, \"type\": \"scatter\", \"data\": [0.901211140104835, 0.8917547947276472, 0.8892225655701208, 0.9113132884657617, 0.9188796146310333, 0.9011011957482047, 0.9120428331040465, 0.7879280933024629, 0.8886596633490899, 0.9054584031257696, 0.8721354285697005, 0.889299980035123, 0.7220939160942509, 0.9102521081465658, 0.9094180147514177, 0.9095797894682207, 0.9225165791070125]}, {\"categories\": [\"0\", \"6\", \"15\", \"17\", \"21\", \"22\", \"24\", \"25\", \"26\", \"27\", \"28\", \"29\", \"30\", \"31\", \"32\", \"33\", \"36\"], \"mode\": \"lines\", \"name\": \"average_precision_score_micro_max\", \"stepped\": true, \"type\": \"scatter\", \"data\": [0.901211140104835, 0.901211140104835, 0.901211140104835, 0.9113132884657617, 0.9188796146310333, 0.9188796146310333, 0.9188796146310333, 0.9188796146310333, 0.9188796146310333, 0.9188796146310333, 0.9188796146310333, 0.9188796146310333, 0.9188796146310333, 0.9188796146310333, 0.9188796146310333, 0.9188796146310333, 0.9225165791070125]}], \"f1_score_macro\": [{\"categories\": [\"0\", \"6\", \"15\", \"17\", \"21\", \"22\", \"24\", \"25\", \"26\", \"27\", \"28\", \"29\", \"30\", \"31\", \"32\", \"33\", \"36\"], \"mode\": \"markers\", \"name\": \"f1_score_macro\", \"stepped\": false, \"type\": \"scatter\", \"data\": [0.7915392891119759, 0.7773321298508924, 0.7693477050970348, 0.8188495898159145, 0.8093375648223441, 0.7920984944403737, 0.8129542126247727, 0.4028479422190175, 0.7698889731469698, 0.8325103125474382, 0.7790033805278094, 0.8022104657337403, 0.4028479422190175, 0.809771477991334, 0.8050023982748941, 0.811323827824316, 0.8265824682063927]}, {\"categories\": [\"0\", \"6\", \"15\", \"17\", \"21\", \"22\", \"24\", \"25\", \"26\", \"27\", \"28\", \"29\", \"30\", \"31\", \"32\", \"33\", \"36\"], \"mode\": \"lines\", \"name\": \"f1_score_macro_max\", \"stepped\": true, \"type\": \"scatter\", \"data\": [0.7915392891119759, 0.7915392891119759, 0.7915392891119759, 0.8188495898159145, 0.8188495898159145, 0.8188495898159145, 0.8188495898159145, 0.8188495898159145, 0.8188495898159145, 0.8325103125474382, 0.8325103125474382, 0.8325103125474382, 0.8325103125474382, 0.8325103125474382, 0.8325103125474382, 0.8325103125474382, 0.8325103125474382]}], \"weighted_accuracy\": [{\"categories\": [\"0\", \"6\", \"15\", \"17\", \"21\", \"22\", \"24\", \"25\", \"26\", \"27\", \"28\", \"29\", \"30\", \"31\", \"32\", \"33\", \"36\"], \"mode\": \"markers\", \"name\": \"weighted_accuracy\", \"stepped\": false, \"type\": \"scatter\", \"data\": [0.8509254276713047, 0.868598626624445, 0.8461204769825575, 0.8623765127714467, 0.8671310814207274, 0.8658457117603681, 0.854024407944567, 0.7972022593522936, 0.8433404980099675, 0.8566189718275501, 0.8078986047917418, 0.8612103736294271, 0.7972022593522936, 0.8590644160785994, 0.856835191080892, 0.8585791534755908, 0.8864189079512681]}, {\"categories\": [\"0\", \"6\", \"15\", \"17\", \"21\", \"22\", \"24\", \"25\", \"26\", \"27\", \"28\", \"29\", \"30\", \"31\", \"32\", \"33\", \"36\"], \"mode\": \"lines\", \"name\": \"weighted_accuracy_max\", \"stepped\": true, \"type\": \"scatter\", \"data\": [0.8509254276713047, 0.868598626624445, 0.868598626624445, 0.868598626624445, 0.868598626624445, 0.868598626624445, 0.868598626624445, 0.868598626624445, 0.868598626624445, 0.868598626624445, 0.868598626624445, 0.868598626624445, 0.868598626624445, 0.868598626624445, 0.868598626624445, 0.868598626624445, 0.8864189079512681]}], \"precision_score_weighted\": [{\"categories\": [\"0\", \"6\", \"15\", \"17\", \"21\", \"22\", \"24\", \"25\", \"26\", \"27\", \"28\", \"29\", \"30\", \"31\", \"32\", \"33\", \"36\"], \"mode\": \"markers\", \"name\": \"precision_score_weighted\", \"stepped\": false, \"type\": \"scatter\", \"data\": [0.8263286460903094, 0.8281099498021668, 0.8142835828178884, 0.8509429024712044, 0.8467008887780944, 0.8433344717987341, 0.8498585181604049, 0.46863748072396716, 0.822768721352932, 0.8631284983216132, 0.815400947097315, 0.840198562394762, 0.46863748072396716, 0.8484999321107582, 0.8419567915610405, 0.8511879364086121, 0.8655296079954534]}, {\"categories\": [\"0\", \"6\", \"15\", \"17\", \"21\", \"22\", \"24\", \"25\", \"26\", \"27\", \"28\", \"29\", \"30\", \"31\", \"32\", \"33\", \"36\"], \"mode\": \"lines\", \"name\": \"precision_score_weighted_max\", \"stepped\": true, \"type\": \"scatter\", \"data\": [0.8263286460903094, 0.8281099498021668, 0.8281099498021668, 0.8509429024712044, 0.8509429024712044, 0.8509429024712044, 0.8509429024712044, 0.8509429024712044, 0.8509429024712044, 0.8631284983216132, 0.8631284983216132, 0.8631284983216132, 0.8631284983216132, 0.8631284983216132, 0.8631284983216132, 0.8631284983216132, 0.8655296079954534]}], \"AUC_weighted\": [{\"categories\": [\"0\", \"6\", \"15\", \"17\", \"21\", \"22\", \"24\", \"25\", \"26\", \"27\", \"28\", \"29\", \"30\", \"31\", \"32\", \"33\", \"36\"], \"mode\": \"markers\", \"name\": \"AUC_weighted\", \"stepped\": false, \"type\": \"scatter\", \"data\": [0.8859521958215462, 0.869649795303044, 0.8690399845237415, 0.9044194297019157, 0.9098665223665223, 0.9048672340162454, 0.910962131742499, 0.7472446035210865, 0.8672648770459506, 0.9002160850501246, 0.8637337271694616, 0.8782041816469783, 0.6062066088990524, 0.8975927046901623, 0.9000395483622884, 0.9011460362978724, 0.9220529379074577]}, {\"categories\": [\"0\", \"6\", \"15\", \"17\", \"21\", \"22\", \"24\", \"25\", \"26\", \"27\", \"28\", \"29\", \"30\", \"31\", \"32\", \"33\", \"36\"], \"mode\": \"lines\", \"name\": \"AUC_weighted_max\", \"stepped\": true, \"type\": \"scatter\", \"data\": [0.8859521958215462, 0.8859521958215462, 0.8859521958215462, 0.9044194297019157, 0.9098665223665223, 0.9098665223665223, 0.910962131742499, 0.910962131742499, 0.910962131742499, 0.910962131742499, 0.910962131742499, 0.910962131742499, 0.910962131742499, 0.910962131742499, 0.910962131742499, 0.910962131742499, 0.9220529379074577]}], \"precision_score_macro\": [{\"categories\": [\"0\", \"6\", \"15\", \"17\", \"21\", \"22\", \"24\", \"25\", \"26\", \"27\", \"28\", \"29\", \"30\", \"31\", \"32\", \"33\", \"36\"], \"mode\": \"markers\", \"name\": \"precision_score_macro\", \"stepped\": false, \"type\": \"scatter\", \"data\": [0.8018714549996244, 0.8208653456737184, 0.7944088460891618, 0.8233003084375207, 0.8242444782842568, 0.8280963758969397, 0.8226548645230689, 0.3395495495495496, 0.7946345029239765, 0.8256018421216829, 0.7724720208768384, 0.8216760334969198, 0.3395495495495496, 0.8260153787118519, 0.8182041409021765, 0.8303491953899298, 0.8562443342398549]}, {\"categories\": [\"0\", \"6\", \"15\", \"17\", \"21\", \"22\", \"24\", \"25\", \"26\", \"27\", \"28\", \"29\", \"30\", \"31\", \"32\", \"33\", \"36\"], \"mode\": \"lines\", \"name\": \"precision_score_macro_max\", \"stepped\": true, \"type\": \"scatter\", \"data\": [0.8018714549996244, 0.8208653456737184, 0.8208653456737184, 0.8233003084375207, 0.8242444782842568, 0.8280963758969397, 0.8280963758969397, 0.8280963758969397, 0.8280963758969397, 0.8280963758969397, 0.8280963758969397, 0.8280963758969397, 0.8280963758969397, 0.8280963758969397, 0.8280963758969397, 0.8303491953899298, 0.8562443342398549]}], \"balanced_accuracy\": [{\"categories\": [\"0\", \"6\", \"15\", \"17\", \"21\", \"22\", \"24\", \"25\", \"26\", \"27\", \"28\", \"29\", \"30\", \"31\", \"32\", \"33\", \"36\"], \"mode\": \"markers\", \"name\": \"balanced_accuracy\", \"stepped\": false, \"type\": \"scatter\", \"data\": [0.7898464186864611, 0.760085991574339, 0.7608638850164273, 0.8205951259976685, 0.806099725564768, 0.7870956971857396, 0.8167831844473794, 0.5, 0.7663690985724882, 0.845962653166043, 0.7923138135797034, 0.7978370137003612, 0.5, 0.8109172332689282, 0.8062823426965376, 0.8132636137403086, 0.8196330995589469]}, {\"categories\": [\"0\", \"6\", \"15\", \"17\", \"21\", \"22\", \"24\", \"25\", \"26\", \"27\", \"28\", \"29\", \"30\", \"31\", \"32\", \"33\", \"36\"], \"mode\": \"lines\", \"name\": \"balanced_accuracy_max\", \"stepped\": true, \"type\": \"scatter\", \"data\": [0.7898464186864611, 0.7898464186864611, 0.7898464186864611, 0.8205951259976685, 0.8205951259976685, 0.8205951259976685, 0.8205951259976685, 0.8205951259976685, 0.8205951259976685, 0.845962653166043, 0.845962653166043, 0.845962653166043, 0.845962653166043, 0.845962653166043, 0.845962653166043, 0.845962653166043, 0.845962653166043]}], \"average_precision_score_macro\": [{\"categories\": [\"0\", \"6\", \"15\", \"17\", \"21\", \"22\", \"24\", \"25\", \"26\", \"27\", \"28\", \"29\", \"30\", \"31\", \"32\", \"33\", \"36\"], \"mode\": \"markers\", \"name\": \"average_precision_score_macro\", \"stepped\": false, \"type\": \"scatter\", \"data\": [0.8721441836724315, 0.8566963643253982, 0.8571477511467986, 0.883521355500348, 0.8919240915121712, 0.8960316205921875, 0.8896549589210265, 0.7203736522333952, 0.8455738703082853, 0.8806956775704446, 0.8495425349526282, 0.8635662439267195, 0.6089622879178797, 0.8826335223001709, 0.881828338791443, 0.8847501048698525, 0.9029214314367839]}, {\"categories\": [\"0\", \"6\", \"15\", \"17\", \"21\", \"22\", \"24\", \"25\", \"26\", \"27\", \"28\", \"29\", \"30\", \"31\", \"32\", \"33\", \"36\"], \"mode\": \"lines\", \"name\": \"average_precision_score_macro_max\", \"stepped\": true, \"type\": \"scatter\", \"data\": [0.8721441836724315, 0.8721441836724315, 0.8721441836724315, 0.883521355500348, 0.8919240915121712, 0.8960316205921875, 0.8960316205921875, 0.8960316205921875, 0.8960316205921875, 0.8960316205921875, 0.8960316205921875, 0.8960316205921875, 0.8960316205921875, 0.8960316205921875, 0.8960316205921875, 0.8960316205921875, 0.9029214314367839]}], \"accuracy\": [{\"categories\": [\"0\", \"6\", \"15\", \"17\", \"21\", \"22\", \"24\", \"25\", \"26\", \"27\", \"28\", \"29\", \"30\", \"31\", \"32\", \"33\", \"36\"], \"mode\": \"markers\", \"name\": \"accuracy\", \"stepped\": false, \"type\": \"scatter\", \"data\": [0.825945945945946, 0.825945945945946, 0.8127477477477478, 0.8459909909909911, 0.8426576576576578, 0.8326576576576576, 0.8392342342342342, 0.6790990990990992, 0.8125225225225226, 0.8525675675675676, 0.8023423423423424, 0.8359009009009009, 0.6790990990990992, 0.8392792792792793, 0.8359009009009009, 0.8393243243243244, 0.8593693693693694]}, {\"categories\": [\"0\", \"6\", \"15\", \"17\", \"21\", \"22\", \"24\", \"25\", \"26\", \"27\", \"28\", \"29\", \"30\", \"31\", \"32\", \"33\", \"36\"], \"mode\": \"lines\", \"name\": \"accuracy_max\", \"stepped\": true, \"type\": \"scatter\", \"data\": [0.825945945945946, 0.825945945945946, 0.825945945945946, 0.8459909909909911, 0.8459909909909911, 0.8459909909909911, 0.8459909909909911, 0.8459909909909911, 0.8459909909909911, 0.8525675675675676, 0.8525675675675676, 0.8525675675675676, 0.8525675675675676, 0.8525675675675676, 0.8525675675675676, 0.8525675675675676, 0.8593693693693694]}]}, \"metricName\": null, \"primaryMetricName\": \"AUC_weighted\", \"showLegend\": false}, \"run_metrics\": [{\"name\": \"experiment_status\", \"run_id\": \"AutoML_3ad48a9e-b036-4cc8-aff4-bee9f8e1822c\", \"categories\": [0, 1, 2, 3, 4, 5, 6, 7, 8, 9, 10, 11, 12, 13], \"series\": [{\"data\": [\"DatasetEvaluation\", \"FeaturesGeneration\", \"DatasetFeaturization\", \"DatasetFeaturizationCompleted\", \"DatasetCrossValidationSplit\", \"ModelSelection\", \"BestRunExplainModel\", \"ModelExplanationDataSetSetup\", \"PickSurrogateModel\", \"EngineeredFeatureExplanations\", \"EngineeredFeatureExplanations\", \"RawFeaturesExplanations\", \"RawFeaturesExplanations\", \"BestRunExplainModel\"]}]}, {\"name\": \"experiment_status_description\", \"run_id\": \"AutoML_3ad48a9e-b036-4cc8-aff4-bee9f8e1822c\", \"categories\": [0, 1, 2, 3, 4, 5, 6, 7, 8, 9, 10, 11, 12, 13], \"series\": [{\"data\": [\"Gathering dataset statistics.\", \"Generating features for the dataset.\", \"Beginning to fit featurizers and featurize the dataset.\", \"Completed fit featurizers and featurizing the dataset.\", \"Generating individually featurized CV splits.\", \"Beginning model selection.\", \"Best run model explanations started\", \"Model explanations data setup completed\", \"Choosing LightGBM as the surrogate model for explanations\", \"Computation of engineered features started\", \"Computation of engineered features completed\", \"Computation of raw features started\", \"Computation of raw features completed\", \"Best run model explanations completed\"]}]}, {\"name\": \"AUC_micro\", \"run_id\": \"AutoML_3ad48a9e-b036-4cc8-aff4-bee9f8e1822c\", \"categories\": [0], \"series\": [{\"data\": [0.9208236182128073]}]}, {\"name\": \"AUC_macro\", \"run_id\": \"AutoML_3ad48a9e-b036-4cc8-aff4-bee9f8e1822c\", \"categories\": [0], \"series\": [{\"data\": [0.9220529379074577]}]}, {\"name\": \"matthews_correlation\", \"run_id\": \"AutoML_3ad48a9e-b036-4cc8-aff4-bee9f8e1822c\", \"categories\": [0], \"series\": [{\"data\": [0.6736872328817212]}]}, {\"name\": \"weighted_accuracy\", \"run_id\": \"AutoML_3ad48a9e-b036-4cc8-aff4-bee9f8e1822c\", \"categories\": [0], \"series\": [{\"data\": [0.8864189079512681]}]}, {\"name\": \"accuracy\", \"run_id\": \"AutoML_3ad48a9e-b036-4cc8-aff4-bee9f8e1822c\", \"categories\": [0], \"series\": [{\"data\": [0.8593693693693694]}]}, {\"name\": \"AUC_weighted\", \"run_id\": \"AutoML_3ad48a9e-b036-4cc8-aff4-bee9f8e1822c\", \"categories\": [0], \"series\": [{\"data\": [0.9220529379074577]}]}, {\"name\": \"recall_score_micro\", \"run_id\": \"AutoML_3ad48a9e-b036-4cc8-aff4-bee9f8e1822c\", \"categories\": [0], \"series\": [{\"data\": [0.8593693693693694]}]}, {\"name\": \"balanced_accuracy\", \"run_id\": \"AutoML_3ad48a9e-b036-4cc8-aff4-bee9f8e1822c\", \"categories\": [0], \"series\": [{\"data\": [0.8196330995589469]}]}, {\"name\": \"precision_score_macro\", \"run_id\": \"AutoML_3ad48a9e-b036-4cc8-aff4-bee9f8e1822c\", \"categories\": [0], \"series\": [{\"data\": [0.8562443342398549]}]}, {\"name\": \"log_loss\", \"run_id\": \"AutoML_3ad48a9e-b036-4cc8-aff4-bee9f8e1822c\", \"categories\": [0], \"series\": [{\"data\": [0.3952271502469328]}]}, {\"name\": \"f1_score_micro\", \"run_id\": \"AutoML_3ad48a9e-b036-4cc8-aff4-bee9f8e1822c\", \"categories\": [0], \"series\": [{\"data\": [0.8593693693693694]}]}, {\"name\": \"recall_score_macro\", \"run_id\": \"AutoML_3ad48a9e-b036-4cc8-aff4-bee9f8e1822c\", \"categories\": [0], \"series\": [{\"data\": [0.8196330995589469]}]}, {\"name\": \"f1_score_weighted\", \"run_id\": \"AutoML_3ad48a9e-b036-4cc8-aff4-bee9f8e1822c\", \"categories\": [0], \"series\": [{\"data\": [0.852619576037233]}]}, {\"name\": \"average_precision_score_macro\", \"run_id\": \"AutoML_3ad48a9e-b036-4cc8-aff4-bee9f8e1822c\", \"categories\": [0], \"series\": [{\"data\": [0.9029214314367839]}]}, {\"name\": \"f1_score_macro\", \"run_id\": \"AutoML_3ad48a9e-b036-4cc8-aff4-bee9f8e1822c\", \"categories\": [0], \"series\": [{\"data\": [0.8265824682063927]}]}, {\"name\": \"recall_score_weighted\", \"run_id\": \"AutoML_3ad48a9e-b036-4cc8-aff4-bee9f8e1822c\", \"categories\": [0], \"series\": [{\"data\": [0.8593693693693694]}]}, {\"name\": \"precision_score_weighted\", \"run_id\": \"AutoML_3ad48a9e-b036-4cc8-aff4-bee9f8e1822c\", \"categories\": [0], \"series\": [{\"data\": [0.8655296079954534]}]}, {\"name\": \"norm_macro_recall\", \"run_id\": \"AutoML_3ad48a9e-b036-4cc8-aff4-bee9f8e1822c\", \"categories\": [0], \"series\": [{\"data\": [0.639266199117894]}]}, {\"name\": \"average_precision_score_weighted\", \"run_id\": \"AutoML_3ad48a9e-b036-4cc8-aff4-bee9f8e1822c\", \"categories\": [0], \"series\": [{\"data\": [0.9261316739799159]}]}, {\"name\": \"precision_score_micro\", \"run_id\": \"AutoML_3ad48a9e-b036-4cc8-aff4-bee9f8e1822c\", \"categories\": [0], \"series\": [{\"data\": [0.8593693693693694]}]}, {\"name\": \"average_precision_score_micro\", \"run_id\": \"AutoML_3ad48a9e-b036-4cc8-aff4-bee9f8e1822c\", \"categories\": [0], \"series\": [{\"data\": [0.9225165791070125]}]}], \"run_logs\": \"\\nRun is completed.\", \"graph\": {}, \"widget_settings\": {\"childWidgetDisplay\": \"popup\", \"send_telemetry\": false, \"log_level\": \"INFO\", \"sdk_version\": \"1.44.0\"}, \"loading\": false}"
          },
          "metadata": {}
        },
        {
          "output_type": "display_data",
          "data": {
            "text/plain": "<IPython.core.display.HTML object>",
            "text/html": "<table style=\"width:100%\"><tr><th>Experiment</th><th>Id</th><th>Type</th><th>Status</th><th>Details Page</th><th>Docs Page</th></tr><tr><td>capstone</td><td>AutoML_3ad48a9e-b036-4cc8-aff4-bee9f8e1822c</td><td>automl</td><td>Completed</td><td><a href=\"https://ml.azure.com/runs/AutoML_3ad48a9e-b036-4cc8-aff4-bee9f8e1822c?wsid=/subscriptions/4999417e-f032-4d4c-982a-c229e26aa825/resourcegroups/udacity-learning/workspaces/udacity&amp;tid=fd3b6086-53e5-43ac-9b6b-b17e80f6e2f7\" target=\"_blank\" rel=\"noopener\">Link to Azure Machine Learning studio</a></td><td><a href=\"https://docs.microsoft.com/en-us/python/api/overview/azure/ml/intro?view=azure-ml-py\" target=\"_blank\" rel=\"noopener\">Link to Documentation</a></td></tr></table>"
          },
          "metadata": {}
        },
        {
          "output_type": "stream",
          "name": "stdout",
          "text": "\n\n********************************************************************************************\nDATA GUARDRAILS: \n\nTYPE:         Class balancing detection\nSTATUS:       PASSED\nDESCRIPTION:  Your inputs were analyzed, and all classes are balanced in your training data.\n              Learn more about imbalanced data: https://aka.ms/AutomatedMLImbalancedData\n\n********************************************************************************************\n\nTYPE:         Missing feature values imputation\nSTATUS:       PASSED\nDESCRIPTION:  No feature missing values were detected in the training data.\n              Learn more about missing value imputation: https://aka.ms/AutomatedMLFeaturization\n\n********************************************************************************************\n\nTYPE:         High cardinality feature detection\nSTATUS:       PASSED\nDESCRIPTION:  Your inputs were analyzed, and no high cardinality features were detected.\n              Learn more about high cardinality feature handling: https://aka.ms/AutomatedMLFeaturization\n\n********************************************************************************************\n\n********************************************************************************************\nITER: The iteration being evaluated.\nPIPELINE: A summary description of the pipeline being evaluated.\nDURATION: Time taken for the current iteration.\nMETRIC: The result of computing score on the fitted pipeline.\nBEST: The best observed score thus far.\n********************************************************************************************\n\n ITER   PIPELINE                                       DURATION            METRIC      BEST\n    0   MaxAbsScaler LightGBM                          0:00:12             0.8860    0.8860\n    1   MaxAbsScaler XGBoostClassifier                 0:00:16             0.8889    0.8889\n    2   MaxAbsScaler ExtremeRandomTrees                0:00:16             0.8696    0.8889\n    3   MaxAbsScaler RandomForest                      0:00:16             0.8831    0.8889\n    4   StandardScalerWrapper LightGBM                 0:00:16             0.9061    0.9061\n    5   StandardScalerWrapper KNN                      0:00:17             0.5288    0.9061\n    6   SparseNormalizer XGBoostClassifier             0:00:16             0.8696    0.9061\n    7   SparseNormalizer RandomForest                  0:00:22             0.8737    0.9061\n   10   StandardScalerWrapper LogisticRegression       0:00:18             0.8625    0.9061\n   11   StandardScalerWrapper SVM                      0:00:16             0.7779    0.9061\n    8   RobustScaler KNN                               0:00:16             0.8360    0.9061\n    9   MinMaxScaler RandomForest                      0:00:16             0.8981    0.9061\n   12   StandardScalerWrapper XGBoostClassifier        0:00:16             0.8712    0.9061\n   13   SparseNormalizer KNN                           0:00:16             0.7371    0.9061\n   14   RobustScaler ExtremeRandomTrees                0:00:17             0.8886    0.9061\n   15   SparseNormalizer XGBoostClassifier             0:00:17             0.8690    0.9061\n   16   MinMaxScaler ExtremeRandomTrees                0:00:17             0.9132    0.9132\n   17   MinMaxScaler ExtremeRandomTrees                0:00:16             0.9044    0.9132\n   18   SparseNormalizer LightGBM                      0:00:11             0.8640    0.9132\n   19   MaxAbsScaler ExtremeRandomTrees                0:00:19             0.8783    0.9132\n   20   StandardScalerWrapper XGBoostClassifier        0:00:04             0.9030    0.9132\n   21   StandardScalerWrapper RandomForest             0:00:04             0.9099    0.9132\n   22   MaxAbsScaler LightGBM                          0:00:04             0.9049    0.9132\n   23   MaxAbsScaler LogisticRegression                0:00:04             0.8620    0.9132\n   24   StandardScalerWrapper ExtremeRandomTrees       0:00:04             0.9110    0.9132\n   25   RobustScaler ExtremeRandomTrees                0:00:04             0.7472    0.9132\n   26   StandardScalerWrapper LogisticRegression       0:00:04             0.8673    0.9132\n   27   MinMaxScaler RandomForest                      0:00:04             0.9002    0.9132\n   28   StandardScalerWrapper ExtremeRandomTrees       0:00:04             0.8637    0.9132\n   29   StandardScalerWrapper XGBoostClassifier        0:00:04             0.8782    0.9132\n   30   RobustScaler ExtremeRandomTrees                0:00:04             0.6062    0.9132\n   31   StandardScalerWrapper XGBoostClassifier        0:00:04             0.8976    0.9132\n   32   StandardScalerWrapper XGBoostClassifier        0:00:04             0.9000    0.9132\n   33   MinMaxScaler GradientBoosting                  0:00:11             0.9011    0.9132\n   34                                                  0:00:00                nan    0.9132\n   35                                                  0:00:00                nan    0.9132\n   36    VotingEnsemble                                0:00:04             0.9221    0.9221\n   37    StackEnsemble                                 0:00:04             0.9171    0.9221\n"
        },
        {
          "output_type": "execute_result",
          "execution_count": 9,
          "data": {
            "text/plain": "{'runId': 'AutoML_3ad48a9e-b036-4cc8-aff4-bee9f8e1822c',\n 'target': 'capstone',\n 'status': 'Completed',\n 'startTimeUtc': '2022-11-10T17:33:03.584251Z',\n 'endTimeUtc': '2022-11-10T17:45:02.087473Z',\n 'services': {},\n 'warnings': [{'source': 'JasmineService',\n   'message': 'No scores improved over last 10 iterations, so experiment stopped early. This early stopping behavior can be disabled by setting enable_early_stopping = False in AutoMLConfig for notebook/python SDK runs.'}],\n 'properties': {'num_iterations': '1000',\n  'training_type': 'TrainFull',\n  'acquisition_function': 'EI',\n  'primary_metric': 'AUC_weighted',\n  'train_split': '0',\n  'acquisition_parameter': '0',\n  'num_cross_validation': '4',\n  'target': 'capstone',\n  'AMLSettingsJsonString': '{\"path\":null,\"name\":\"capstone\",\"subscription_id\":\"4999417e-f032-4d4c-982a-c229e26aa825\",\"resource_group\":\"udacity-learning\",\"workspace_name\":\"udacity\",\"region\":\"germanywestcentral\",\"compute_target\":\"capstone\",\"spark_service\":null,\"azure_service\":\"remote\",\"many_models\":false,\"pipeline_fetch_max_batch_size\":1,\"enable_batch_run\":true,\"enable_run_restructure\":false,\"start_auxiliary_runs_before_parent_complete\":false,\"enable_code_generation\":true,\"iterations\":1000,\"primary_metric\":\"AUC_weighted\",\"task_type\":\"classification\",\"positive_label\":null,\"data_script\":null,\"test_size\":0.0,\"test_include_predictions_only\":false,\"validation_size\":0.0,\"n_cross_validations\":4,\"y_min\":null,\"y_max\":null,\"num_classes\":null,\"featurization\":\"auto\",\"_ignore_package_version_incompatibilities\":false,\"is_timeseries\":false,\"max_cores_per_iteration\":1,\"max_concurrent_iterations\":4,\"iteration_timeout_minutes\":null,\"mem_in_mb\":null,\"enforce_time_on_windows\":false,\"experiment_timeout_minutes\":20,\"experiment_exit_score\":null,\"partition_column_names\":null,\"whitelist_models\":null,\"blacklist_algos\":[\"TensorFlowLinearClassifier\",\"TensorFlowDNN\"],\"supported_models\":[\"SVM\",\"ExtremeRandomTrees\",\"TensorFlowLinearClassifier\",\"BernoulliNaiveBayes\",\"RandomForest\",\"LogisticRegression\",\"LinearSVM\",\"MultinomialNaiveBayes\",\"XGBoostClassifier\",\"LightGBM\",\"AveragedPerceptronClassifier\",\"SGD\",\"KNN\",\"TabnetClassifier\",\"GradientBoosting\",\"TensorFlowDNN\",\"DecisionTree\"],\"private_models\":[],\"auto_blacklist\":true,\"blacklist_samples_reached\":false,\"exclude_nan_labels\":true,\"verbosity\":20,\"_debug_log\":\"azureml_automl.log\",\"show_warnings\":false,\"model_explainability\":true,\"service_url\":null,\"sdk_url\":null,\"sdk_packages\":null,\"enable_onnx_compatible_models\":false,\"enable_split_onnx_featurizer_estimator_models\":false,\"vm_type\":\"STANDARD_DS2_V2\",\"telemetry_verbosity\":20,\"send_telemetry\":true,\"enable_dnn\":false,\"scenario\":\"AutoML\",\"environment_label\":null,\"save_mlflow\":false,\"enable_categorical_indicators\":false,\"force_text_dnn\":false,\"enable_feature_sweeping\":true,\"enable_early_stopping\":true,\"early_stopping_n_iters\":10,\"arguments\":null,\"dataset_id\":\"5c97a399-84ac-44c8-a88f-807f7c8a74cb\",\"hyperdrive_config\":null,\"validation_dataset_id\":null,\"run_source\":null,\"metrics\":null,\"enable_metric_confidence\":false,\"enable_ensembling\":true,\"enable_stack_ensembling\":true,\"ensemble_iterations\":15,\"enable_tf\":false,\"enable_subsampling\":null,\"subsample_seed\":null,\"enable_nimbusml\":false,\"enable_streaming\":false,\"force_streaming\":false,\"track_child_runs\":true,\"allowed_private_models\":[],\"label_column_name\":\"DEATH_EVENT\",\"weight_column_name\":null,\"cv_split_column_names\":null,\"enable_local_managed\":false,\"_local_managed_run_id\":null,\"cost_mode\":1,\"lag_length\":0,\"metric_operation\":\"maximize\",\"preprocess\":true}',\n  'DataPrepJsonString': '{\\\\\"training_data\\\\\": {\\\\\"datasetId\\\\\": \\\\\"5c97a399-84ac-44c8-a88f-807f7c8a74cb\\\\\"}, \\\\\"datasets\\\\\": 0}',\n  'EnableSubsampling': None,\n  'runTemplate': 'AutoML',\n  'azureml.runsource': 'automl',\n  'display_task_type': 'classification',\n  'dependencies_versions': '{\"azureml-widgets\": \"1.44.0\", \"azureml-training-tabular\": \"1.44.0\", \"azureml-train\": \"1.44.0\", \"azureml-train-restclients-hyperdrive\": \"1.44.0\", \"azureml-train-core\": \"1.44.0\", \"azureml-train-automl\": \"1.44.0\", \"azureml-train-automl-runtime\": \"1.44.0\", \"azureml-train-automl-client\": \"1.44.0\", \"azureml-tensorboard\": \"1.44.0\", \"azureml-telemetry\": \"1.44.0\", \"azureml-sdk\": \"1.44.0\", \"azureml-samples\": \"0+unknown\", \"azureml-responsibleai\": \"1.44.0\", \"azureml-pipeline\": \"1.44.0\", \"azureml-pipeline-steps\": \"1.44.0\", \"azureml-pipeline-core\": \"1.44.0\", \"azureml-opendatasets\": \"1.44.0\", \"azureml-mlflow\": \"1.44.0\", \"azureml-interpret\": \"1.44.0\", \"azureml-inference-server-http\": \"0.7.4\", \"azureml-explain-model\": \"1.44.0\", \"azureml-defaults\": \"1.44.0\", \"azureml-dataset-runtime\": \"1.44.0\", \"azureml-dataprep\": \"4.2.2\", \"azureml-dataprep-rslex\": \"2.8.1\", \"azureml-dataprep-native\": \"38.0.0\", \"azureml-datadrift\": \"1.44.0\", \"azureml-core\": \"1.44.0\", \"azureml-contrib-services\": \"1.44.0\", \"azureml-contrib-server\": \"1.44.0\", \"azureml-contrib-reinforcementlearning\": \"1.44.0\", \"azureml-contrib-pipeline-steps\": \"1.44.0\", \"azureml-contrib-notebook\": \"1.44.0\", \"azureml-contrib-fairness\": \"1.44.0\", \"azureml-contrib-dataset\": \"1.44.0\", \"azureml-contrib-automl-pipeline-steps\": \"1.44.0\", \"azureml-cli-common\": \"1.44.0\", \"azureml-automl-runtime\": \"1.44.0\", \"azureml-automl-dnn-nlp\": \"1.44.0\", \"azureml-automl-core\": \"1.44.0\", \"azureml-accel-models\": \"1.44.0\"}',\n  '_aml_system_scenario_identification': 'Remote.Parent',\n  'ClientType': 'SDK',\n  'environment_cpu_name': 'AzureML-AutoML',\n  'environment_cpu_label': 'prod',\n  'environment_gpu_name': 'AzureML-AutoML-GPU',\n  'environment_gpu_label': 'prod',\n  'root_attribution': 'automl',\n  'attribution': 'AutoML',\n  'Orchestrator': 'AutoML',\n  'CancelUri': 'https://germanywestcentral.api.azureml.ms/jasmine/v1.0/subscriptions/4999417e-f032-4d4c-982a-c229e26aa825/resourceGroups/udacity-learning/providers/Microsoft.MachineLearningServices/workspaces/udacity/experimentids/ee5a7303-fffe-411c-b5af-3c20683fabb0/cancel/AutoML_3ad48a9e-b036-4cc8-aff4-bee9f8e1822c',\n  'ClientSdkVersion': '1.46.1',\n  'snapshotId': '00000000-0000-0000-0000-000000000000',\n  'SetupRunId': 'AutoML_3ad48a9e-b036-4cc8-aff4-bee9f8e1822c_setup',\n  'SetupRunContainerId': 'dcid.AutoML_3ad48a9e-b036-4cc8-aff4-bee9f8e1822c_setup',\n  'FeaturizationRunJsonPath': 'featurizer_container.json',\n  'FeaturizationRunId': 'AutoML_3ad48a9e-b036-4cc8-aff4-bee9f8e1822c_featurize',\n  'ProblemInfoJsonString': '{\"dataset_num_categorical\": 0, \"is_sparse\": false, \"subsampling\": false, \"has_extra_col\": true, \"dataset_classes\": 2, \"dataset_features\": 12, \"dataset_samples\": 299, \"single_frequency_class_detected\": false}',\n  'ModelExplainRunId': 'AutoML_3ad48a9e-b036-4cc8-aff4-bee9f8e1822c_ModelExplain'},\n 'inputDatasets': [{'dataset': {'id': '5c97a399-84ac-44c8-a88f-807f7c8a74cb'}, 'consumptionDetails': {'type': 'RunInput', 'inputName': 'training_data', 'mechanism': 'Direct'}}],\n 'outputDatasets': [{'identifier': {'savedId': '0398e1a4-c89d-448b-b8e6-084c14ead9dc'},\n   'outputType': 'RunOutput',\n   'outputDetails': {'outputName': 'full_training_dataset'},\n   'dataset': {\n     \"source\": [\n       \"('workspaceartifactstore', 'ExperimentRun/dcid.AutoML_3ad48a9e-b036-4cc8-aff4-bee9f8e1822c/outputs/featurization/data/full_training_dataset.df.parquet')\"\n     ],\n     \"definition\": [\n       \"GetDatastoreFiles\",\n       \"ReadParquetFile\",\n       \"DropColumns\"\n     ],\n     \"registration\": {\n       \"id\": \"0398e1a4-c89d-448b-b8e6-084c14ead9dc\",\n       \"name\": null,\n       \"version\": null,\n       \"workspace\": \"Workspace.create(name='udacity', subscription_id='4999417e-f032-4d4c-982a-c229e26aa825', resource_group='udacity-learning')\"\n     }\n   }}],\n 'logFiles': {},\n 'submittedBy': 'Karthick P'}"
          },
          "metadata": {}
        }
      ],
      "execution_count": 9,
      "metadata": {
        "gather": {
          "logged": 1668102507696
        },
        "jupyter": {
          "outputs_hidden": false,
          "source_hidden": false
        },
        "nteract": {
          "transient": {
            "deleting": false
          }
        }
      }
    },
    {
      "cell_type": "markdown",
      "source": [
        "## Best Model\n",
        "\n",
        "TODO: In the cell below, get the best model from the automl experiments and display all the properties of the model.\n",
        "\n"
      ],
      "metadata": {}
    },
    {
      "cell_type": "code",
      "source": [
        "# Retrieve best model from Pipeline Run\n",
        "best_automl, best_fit_model = remote_run.get_output()\n",
        "print(best_fit_model)"
      ],
      "outputs": [
        {
          "output_type": "stream",
          "name": "stderr",
          "text": "WARNING:root:The version of the SDK does not match the version the model was trained on.\nWARNING:root:The consistency in the result may not be guaranteed.\nWARNING:root:Package:azureml-automl-core, training version:1.46.1, current version:1.44.0\nPackage:azureml-automl-runtime, training version:1.46.1, current version:1.44.0\nPackage:azureml-core, training version:1.46.0, current version:1.44.0\nPackage:azureml-dataprep, training version:4.5.7, current version:4.2.2\nPackage:azureml-dataprep-rslex, training version:2.11.4, current version:2.8.1\nPackage:azureml-dataset-runtime, training version:1.46.0, current version:1.44.0\nPackage:azureml-defaults, training version:1.46.0, current version:1.44.0\nPackage:azureml-interpret, training version:1.46.0, current version:1.44.0\nPackage:azureml-mlflow, training version:1.46.0, current version:1.44.0\nPackage:azureml-pipeline-core, training version:1.46.0, current version:1.44.0\nPackage:azureml-responsibleai, training version:1.46.0, current version:1.44.0\nPackage:azureml-telemetry, training version:1.46.0, current version:1.44.0\nPackage:azureml-train-automl-client, training version:1.46.0, current version:1.44.0\nPackage:azureml-train-automl-runtime, training version:1.46.1, current version:1.44.0\nPackage:azureml-train-core, training version:1.46.0, current version:1.44.0\nPackage:azureml-train-restclients-hyperdrive, training version:1.46.0, current version:1.44.0\nPackage:azureml-training-tabular, training version:1.46.1, current version:1.44.0\nWARNING:root:Please ensure the version of your local conda dependencies match the version on which your model was trained in order to properly retrieve your model.\n"
        },
        {
          "output_type": "stream",
          "name": "stdout",
          "text": "Pipeline(memory=None,\n         steps=[('datatransformer',\n                 DataTransformer(enable_dnn=False, enable_feature_sweeping=True, feature_sweeping_config={}, feature_sweeping_timeout=86400, featurization_config=None, force_text_dnn=False, is_cross_validation=True, is_onnx_compatible=False, observer=None, task='classification', working_dir='/mnt/batch/tasks/shared/LS_root/mount...\n                                                                                                  n_estimators=100,\n                                                                                                  n_jobs=1,\n                                                                                                  oob_score=False,\n                                                                                                  random_state=None,\n                                                                                                  verbose=0,\n                                                                                                  warm_start=False))],\n                                                                     verbose=False))],\n                                               flatten_transform=None,\n                                               weights=[0.14285714285714285,\n                                                        0.14285714285714285,\n                                                        0.07142857142857142,\n                                                        0.14285714285714285,\n                                                        0.07142857142857142,\n                                                        0.07142857142857142,\n                                                        0.14285714285714285,\n                                                        0.07142857142857142,\n                                                        0.07142857142857142,\n                                                        0.07142857142857142]))],\n         verbose=False)\n"
        }
      ],
      "execution_count": 10,
      "metadata": {
        "gather": {
          "logged": 1668102515844
        },
        "jupyter": {
          "outputs_hidden": false,
          "source_hidden": false
        },
        "nteract": {
          "transient": {
            "deleting": false
          }
        }
      }
    },
    {
      "cell_type": "code",
      "source": [
        "print(best_automl)"
      ],
      "outputs": [
        {
          "output_type": "stream",
          "name": "stdout",
          "text": "Run(Experiment: capstone,\nId: AutoML_3ad48a9e-b036-4cc8-aff4-bee9f8e1822c_36,\nType: azureml.scriptrun,\nStatus: Completed)\n"
        }
      ],
      "execution_count": 11,
      "metadata": {
        "jupyter": {
          "source_hidden": false,
          "outputs_hidden": false
        },
        "nteract": {
          "transient": {
            "deleting": false
          }
        },
        "gather": {
          "logged": 1668102515954
        }
      }
    },
    {
      "cell_type": "code",
      "source": [
        "best_automl.get_metrics()"
      ],
      "outputs": [
        {
          "output_type": "execute_result",
          "execution_count": 12,
          "data": {
            "text/plain": "{'average_precision_score_micro': 0.9225165791070125,\n 'precision_score_micro': 0.8593693693693694,\n 'precision_score_macro': 0.8562443342398549,\n 'norm_macro_recall': 0.639266199117894,\n 'AUC_weighted': 0.9220529379074577,\n 'precision_score_weighted': 0.8655296079954534,\n 'balanced_accuracy': 0.8196330995589469,\n 'f1_score_macro': 0.8265824682063927,\n 'weighted_accuracy': 0.8864189079512681,\n 'log_loss': 0.3952271502469328,\n 'average_precision_score_weighted': 0.9261316739799159,\n 'recall_score_weighted': 0.8593693693693694,\n 'recall_score_macro': 0.8196330995589469,\n 'f1_score_micro': 0.8593693693693694,\n 'average_precision_score_macro': 0.9029214314367839,\n 'AUC_micro': 0.9208236182128073,\n 'accuracy': 0.8593693693693694,\n 'recall_score_micro': 0.8593693693693694,\n 'matthews_correlation': 0.6736872328817212,\n 'AUC_macro': 0.9220529379074577,\n 'f1_score_weighted': 0.852619576037233,\n 'confusion_matrix': 'aml://artifactId/ExperimentRun/dcid.AutoML_3ad48a9e-b036-4cc8-aff4-bee9f8e1822c_36/confusion_matrix',\n 'accuracy_table': 'aml://artifactId/ExperimentRun/dcid.AutoML_3ad48a9e-b036-4cc8-aff4-bee9f8e1822c_36/accuracy_table'}"
          },
          "metadata": {}
        }
      ],
      "execution_count": 12,
      "metadata": {
        "jupyter": {
          "source_hidden": false,
          "outputs_hidden": false
        },
        "nteract": {
          "transient": {
            "deleting": false
          }
        },
        "gather": {
          "logged": 1668102518133
        }
      }
    },
    {
      "cell_type": "code",
      "source": [
        "best_automl.properties"
      ],
      "outputs": [
        {
          "output_type": "execute_result",
          "execution_count": 13,
          "data": {
            "text/plain": "{'runTemplate': 'automl_child',\n 'pipeline_id': '__AutoML_Ensemble__',\n 'pipeline_spec': '{\"pipeline_id\":\"__AutoML_Ensemble__\",\"objects\":[{\"module\":\"azureml.train.automl.ensemble\",\"class_name\":\"Ensemble\",\"spec_class\":\"sklearn\",\"param_args\":[],\"param_kwargs\":{\"automl_settings\":\"{\\'task_type\\':\\'classification\\',\\'primary_metric\\':\\'AUC_weighted\\',\\'verbosity\\':20,\\'ensemble_iterations\\':15,\\'is_timeseries\\':False,\\'name\\':\\'capstone\\',\\'compute_target\\':\\'capstone\\',\\'subscription_id\\':\\'4999417e-f032-4d4c-982a-c229e26aa825\\',\\'region\\':\\'germanywestcentral\\',\\'spark_service\\':None}\",\"ensemble_run_id\":\"AutoML_3ad48a9e-b036-4cc8-aff4-bee9f8e1822c_36\",\"experiment_name\":\"capstone\",\"workspace_name\":\"udacity\",\"subscription_id\":\"4999417e-f032-4d4c-982a-c229e26aa825\",\"resource_group_name\":\"udacity-learning\"}}]}',\n 'training_percent': '100',\n 'predicted_cost': None,\n 'iteration': '36',\n '_aml_system_scenario_identification': 'Remote.Child',\n '_azureml.ComputeTargetType': 'amlctrain',\n 'ContentSnapshotId': '842b40da-98ca-4538-9271-7931456b6fd3',\n 'ProcessInfoFile': 'azureml-logs/process_info.json',\n 'ProcessStatusFile': 'azureml-logs/process_status.json',\n 'run_preprocessor': '',\n 'run_algorithm': 'VotingEnsemble',\n 'ensembled_iterations': '[16, 24, 21, 4, 22, 30, 12, 6, 15, 25]',\n 'ensembled_algorithms': \"['ExtremeRandomTrees', 'ExtremeRandomTrees', 'RandomForest', 'LightGBM', 'LightGBM', 'ExtremeRandomTrees', 'XGBoostClassifier', 'XGBoostClassifier', 'XGBoostClassifier', 'ExtremeRandomTrees']\",\n 'ensembled_run_ids': \"['AutoML_3ad48a9e-b036-4cc8-aff4-bee9f8e1822c_16', 'AutoML_3ad48a9e-b036-4cc8-aff4-bee9f8e1822c_24', 'AutoML_3ad48a9e-b036-4cc8-aff4-bee9f8e1822c_21', 'AutoML_3ad48a9e-b036-4cc8-aff4-bee9f8e1822c_4', 'AutoML_3ad48a9e-b036-4cc8-aff4-bee9f8e1822c_22', 'AutoML_3ad48a9e-b036-4cc8-aff4-bee9f8e1822c_30', 'AutoML_3ad48a9e-b036-4cc8-aff4-bee9f8e1822c_12', 'AutoML_3ad48a9e-b036-4cc8-aff4-bee9f8e1822c_6', 'AutoML_3ad48a9e-b036-4cc8-aff4-bee9f8e1822c_15', 'AutoML_3ad48a9e-b036-4cc8-aff4-bee9f8e1822c_25']\",\n 'ensemble_weights': '[0.14285714285714285, 0.14285714285714285, 0.07142857142857142, 0.14285714285714285, 0.07142857142857142, 0.07142857142857142, 0.14285714285714285, 0.07142857142857142, 0.07142857142857142, 0.07142857142857142]',\n 'best_individual_pipeline_score': '0.9131706661720786',\n 'best_individual_iteration': '16',\n 'model_output_path': 'outputs/model.pkl',\n 'conda_env_data_location': 'aml://artifact/ExperimentRun/dcid.AutoML_3ad48a9e-b036-4cc8-aff4-bee9f8e1822c_36/outputs/conda_env_v_1_0_0.yml',\n 'model_data_location': 'aml://artifact/ExperimentRun/dcid.AutoML_3ad48a9e-b036-4cc8-aff4-bee9f8e1822c_36/outputs/model.pkl',\n 'model_size_on_disk': '1841092',\n 'scoring_data_location': 'aml://artifact/ExperimentRun/dcid.AutoML_3ad48a9e-b036-4cc8-aff4-bee9f8e1822c_36/outputs/scoring_file_v_1_0_0.py',\n 'scoring_data_location_v2': 'aml://artifact/ExperimentRun/dcid.AutoML_3ad48a9e-b036-4cc8-aff4-bee9f8e1822c_36/outputs/scoring_file_v_2_0_0.py',\n 'scoring_data_location_pbi': 'aml://artifact/ExperimentRun/dcid.AutoML_3ad48a9e-b036-4cc8-aff4-bee9f8e1822c_36/outputs/scoring_file_pbi_v_1_0_0.py',\n 'model_exp_support': 'True',\n 'pipeline_graph_version': '1.0.0',\n 'model_name': 'AutoML3ad48a9eb36',\n 'score': '0.9220529379074577',\n 'score_table': 'NaN',\n 'run_properties': 'classification_labels=numpy.array([0, 1]',\n 'pipeline_script': '{\"pipeline_id\":\"__AutoML_Ensemble__\",\"objects\":[{\"module\":\"azureml.train.automl.ensemble\",\"class_name\":\"Ensemble\",\"spec_class\":\"sklearn\",\"param_args\":[],\"param_kwargs\":{\"automl_settings\":\"{\\'task_type\\':\\'classification\\',\\'primary_metric\\':\\'AUC_weighted\\',\\'verbosity\\':20,\\'ensemble_iterations\\':15,\\'is_timeseries\\':False,\\'name\\':\\'capstone\\',\\'compute_target\\':\\'capstone\\',\\'subscription_id\\':\\'4999417e-f032-4d4c-982a-c229e26aa825\\',\\'region\\':\\'germanywestcentral\\',\\'spark_service\\':None}\",\"ensemble_run_id\":\"AutoML_3ad48a9e-b036-4cc8-aff4-bee9f8e1822c_36\",\"experiment_name\":\"capstone\",\"workspace_name\":\"udacity\",\"subscription_id\":\"4999417e-f032-4d4c-982a-c229e26aa825\",\"resource_group_name\":\"udacity-learning\"}}]}',\n 'training_type': 'MeanCrossValidation',\n 'fit_time': '16',\n 'goal': 'AUC_weighted_max',\n 'primary_metric': 'AUC_weighted',\n 'errors': '{}',\n 'onnx_model_resource': '{}',\n 'dependencies_versions': '{\"azureml-dataprep-native\": \"38.0.0\", \"azureml-dataprep\": \"4.5.7\", \"azureml-dataprep-rslex\": \"2.11.4\", \"azureml-training-tabular\": \"1.46.1\", \"azureml-train-automl-runtime\": \"1.46.1\", \"azureml-automl-runtime\": \"1.46.1\", \"azureml-automl-core\": \"1.46.1\", \"azureml-dataset-runtime\": \"1.46.0\", \"azureml-train-automl-client\": \"1.46.0\", \"azureml-interpret\": \"1.46.0\", \"azureml-mlflow\": \"1.46.0\", \"azureml-telemetry\": \"1.46.0\", \"azureml-responsibleai\": \"1.46.0\", \"azureml-core\": \"1.46.0\", \"azureml-train-core\": \"1.46.0\", \"azureml-pipeline-core\": \"1.46.0\", \"azureml-defaults\": \"1.46.0\", \"azureml-train-restclients-hyperdrive\": \"1.46.0\", \"azureml-inference-server-http\": \"0.7.6\"}',\n 'num_cores': '2',\n 'num_logical_cores': '2',\n 'peak_memory_usage': '1039220',\n 'vm_configuration': 'x86_64',\n 'core_hours': '0.005319198333333333',\n 'feature_skus': 'automatedml_sdk_guardrails'}"
          },
          "metadata": {}
        }
      ],
      "execution_count": 13,
      "metadata": {
        "jupyter": {
          "source_hidden": false,
          "outputs_hidden": false
        },
        "nteract": {
          "transient": {
            "deleting": false
          }
        },
        "gather": {
          "logged": 1668102518234
        }
      }
    },
    {
      "cell_type": "code",
      "source": [
        "best_fit_model.steps"
      ],
      "outputs": [
        {
          "output_type": "execute_result",
          "execution_count": 14,
          "data": {
            "text/plain": "[('datatransformer',\n  DataTransformer(enable_dnn=False, enable_feature_sweeping=True, feature_sweeping_config={}, feature_sweeping_timeout=86400, featurization_config=None, force_text_dnn=False, is_cross_validation=True, is_onnx_compatible=False, task='classification')),\n ('prefittedsoftvotingclassifier',\n  PreFittedSoftVotingClassifier(classification_labels=array([0, 1]),\n                                estimators=[('16',\n                                             Pipeline(memory=None,\n                                                      steps=[('minmaxscaler',\n                                                              MinMaxScaler(copy=True,\n                                                                           feature_range=(0,\n                                                                                          1))),\n                                                             ('extratreesclassifier',\n                                                              ExtraTreesClassifier(bootstrap=True,\n                                                                                   ccp_alpha=0.0,\n                                                                                   class_weight=None,\n                                                                                   criterion='gini',\n                                                                                   max_depth=None,\n                                                                                   max_features=None,\n                                                                                   max_leaf_nodes=None,\n                                                                                   max_samples=None...\n                                                                                   min_weight_fraction_leaf=0.0,\n                                                                                   n_estimators=100,\n                                                                                   n_jobs=1,\n                                                                                   oob_score=False,\n                                                                                   random_state=None,\n                                                                                   verbose=0,\n                                                                                   warm_start=False))],\n                                                      verbose=False))],\n                                flatten_transform=None,\n                                weights=[0.14285714285714285, 0.14285714285714285,\n                                         0.07142857142857142, 0.14285714285714285,\n                                         0.07142857142857142, 0.07142857142857142,\n                                         0.14285714285714285, 0.07142857142857142,\n                                         0.07142857142857142,\n                                         0.07142857142857142]))]"
          },
          "metadata": {}
        }
      ],
      "execution_count": 14,
      "metadata": {
        "jupyter": {
          "source_hidden": false,
          "outputs_hidden": false
        },
        "nteract": {
          "transient": {
            "deleting": false
          }
        },
        "gather": {
          "logged": 1668102518368
        }
      }
    },
    {
      "cell_type": "code",
      "source": [
        "#Save the best model, scoring script and conda environment of the best run\n",
        "import joblib\n",
        "import os\n",
        "\n",
        "inference_folder = 'inference'\n",
        "automl_model = os.path.join(inference_folder, 'model.pkl')\n",
        "score_script = os.path.join(inference_folder, 'score.py')\n",
        "conda_env = os.path.join(inference_folder, 'conda_env.yml')\n",
        "\n",
        "\n",
        "best_automl.download_file('outputs/model.pkl', automl_model)\n",
        "best_automl.download_file('outputs/scoring_file_v_2_0_0.py', score_script)\n",
        "best_automl.download_file('outputs/conda_env_v_1_0_0.yml', conda_env)"
      ],
      "outputs": [],
      "execution_count": 15,
      "metadata": {
        "gather": {
          "logged": 1668102518800
        },
        "jupyter": {
          "outputs_hidden": false,
          "source_hidden": false
        },
        "nteract": {
          "transient": {
            "deleting": false
          }
        }
      }
    },
    {
      "cell_type": "code",
      "source": [],
      "outputs": [],
      "execution_count": null,
      "metadata": {
        "jupyter": {
          "source_hidden": false,
          "outputs_hidden": false
        },
        "nteract": {
          "transient": {
            "deleting": false
          }
        }
      }
    },
    {
      "cell_type": "markdown",
      "source": [
        "## Model Deployment\n",
        "\n",
        "Remember you have to deploy only one of the two models you trained but you still need to register both the models. Perform the steps in the rest of this notebook only if you wish to deploy this model.\n",
        "\n",
        "TODO: In the cell below, register the model, create an inference config and deploy the model as a web service."
      ],
      "metadata": {}
    },
    {
      "cell_type": "code",
      "source": [
        "# Register the Model\n",
        "from azureml.core.model import Model\n",
        "model = Model.register(\n",
        "    workspace = ws,\n",
        "    model_name = 'best_fit_automl_model', \n",
        "    model_path = automl_model,\n",
        "    model_framework=Model.Framework.SCIKITLEARN,\n",
        "    model_framework_version=sklearn.__version__,\n",
        "    description='Auto ML model for predicting heart failure'\n",
        "    )\n",
        "print(model.name, model.id, model.version, sep='\\t')"
      ],
      "outputs": [
        {
          "output_type": "stream",
          "name": "stdout",
          "text": "Registering model best_fit_automl_model\nbest_fit_automl_model\tbest_fit_automl_model:3\t3\n"
        }
      ],
      "execution_count": 16,
      "metadata": {
        "gather": {
          "logged": 1668102519874
        },
        "jupyter": {
          "outputs_hidden": false,
          "source_hidden": false
        },
        "nteract": {
          "transient": {
            "deleting": false
          }
        }
      }
    },
    {
      "cell_type": "code",
      "source": [
        "# Deploy the Model\n",
        "from azureml.core.environment import Environment\n",
        "from azureml.core.model import InferenceConfig\n",
        "from azureml.core.webservice import LocalWebservice, Webservice, AciWebservice\n",
        "from azureml.core.conda_dependencies import CondaDependencies\n",
        "import azureml.train.automl\n",
        "\n",
        "# Create the environment\n",
        "env = best_automl.get_environment()\n",
        "\n",
        "# Define inference configuration\n",
        "inference_config = InferenceConfig(entry_script=score_script, environment=env)\n",
        "\n",
        "# Define deployment configuration\n",
        "deployment_config = AciWebservice.deploy_configuration(\n",
        "    cpu_cores=1, \n",
        "    memory_gb=1, \n",
        "    description='Predicting deaths caused by heart failure',\n",
        "    enable_app_insights=True)\n",
        "\n",
        "\n",
        "# Deploy model as webservice using Azure Container Instance (ACI)\n",
        "service_name = \"heart-failure-service\"\n",
        "\n",
        "service = Model.deploy(\n",
        "    workspace=ws,\n",
        "    name=service_name, \n",
        "    models=[model], \n",
        "    inference_config=inference_config, \n",
        "    deployment_config=deployment_config, \n",
        "    overwrite=True)\n",
        "\n",
        "service.wait_for_deployment(show_output=True)\n",
        "\n",
        "print(service.state)"
      ],
      "outputs": [
        {
          "output_type": "stream",
          "name": "stdout",
          "text": "Tips: You can try get_logs(): https://aka.ms/debugimage#dockerlog or local deployment: https://aka.ms/debugimage#debug-locally to debug if deployment takes longer than 10 minutes.\nRunning\n2022-11-10 17:48:42+00:00 Creating Container Registry if not exists.\n2022-11-10 17:48:42+00:00 Registering the environment.\n2022-11-10 17:48:43+00:00 Use the existing image.\n2022-11-10 17:48:43+00:00 Submitting deployment to compute.\n2022-11-10 17:48:50+00:00 Checking the status of deployment heart-failure-service..\n2022-11-10 17:51:03+00:00 Checking the status of inference endpoint heart-failure-service.\nSucceeded\nACI service creation operation finished, operation \"Succeeded\"\nHealthy\n"
        }
      ],
      "execution_count": 17,
      "metadata": {
        "jupyter": {
          "source_hidden": false,
          "outputs_hidden": false
        },
        "nteract": {
          "transient": {
            "deleting": false
          }
        },
        "gather": {
          "logged": 1668102695756
        }
      }
    },
    {
      "cell_type": "markdown",
      "source": [
        "TODO: In the cell below, send a request to the web service you deployed to test it."
      ],
      "metadata": {
        "collapsed": true,
        "gather": {
          "logged": 1598431657736
        },
        "jupyter": {
          "outputs_hidden": false,
          "source_hidden": false
        },
        "nteract": {
          "transient": {
            "deleting": false
          }
        }
      }
    },
    {
      "cell_type": "code",
      "source": [
        "import urllib.request\n",
        "import json\n",
        "import os\n",
        "import ssl\n",
        "\n",
        "def allowSelfSignedHttps(allowed):\n",
        "    # bypass the server certificate verification on client side\n",
        "    if allowed and not os.environ.get('PYTHONHTTPSVERIFY', '') and getattr(ssl, '_create_unverified_context', None):\n",
        "        ssl._create_default_https_context = ssl._create_unverified_context\n",
        "\n",
        "allowSelfSignedHttps(True) # this line is needed if you use self-signed certificate in your scoring service.\n",
        "\n",
        "# Request data goes here\n",
        "# The example below assumes JSON formatting which may be updated\n",
        "# depending on the format your endpoint expects.\n",
        "# More information can be found here:\n",
        "# https://docs.microsoft.com/azure/machine-learning/how-to-deploy-advanced-entry-script\n",
        "data =  {\n",
        "  \"Inputs\": {\n",
        "    \"data\": [\n",
        "      {\n",
        "        \"age\": 75,\n",
        "        \"anaemia\": 0,\n",
        "        \"creatinine_phosphokinase\": 582,\n",
        "        \"diabetes\": 0,\n",
        "        \"ejection_fraction\": 20,\n",
        "        \"high_blood_pressure\": 1,\n",
        "        \"platelets\": 265000,\n",
        "        \"serum_creatinine\": 1.9,\n",
        "        \"serum_sodium\": 130,\n",
        "        \"sex\": 1,\n",
        "        \"smoking\": 0,\n",
        "        \"time\": 4\n",
        "      }\n",
        "    ]\n",
        "  },\n",
        "  \"GlobalParameters\": {\n",
        "    \"method\": \"predict\"\n",
        "  }\n",
        "}\n",
        "\n",
        "body = str.encode(json.dumps(data))\n",
        "\n",
        "url = 'http://89844934-605c-406c-ac50-7f0a03766bdd.germanywestcentral.azurecontainer.io/score'\n",
        "api_key = '' # Replace this with the API key for the web service\n",
        "\n",
        "# The azureml-model-deployment header will force the request to go to a specific deployment.\n",
        "# Remove this header to have the request observe the endpoint traffic rules\n",
        "headers = {\n",
        "    'Content-Type':'application/json', \n",
        "    #'Authorization':('Bearer '+ api_key)\n",
        "    }\n",
        "\n",
        "req = urllib.request.Request(\n",
        "    url, \n",
        "    body, \n",
        "    headers\n",
        "    )\n",
        "\n",
        "try:\n",
        "    response = urllib.request.urlopen(req)\n",
        "\n",
        "    result = response.read()\n",
        "    print(result)\n",
        "except urllib.error.HTTPError as error:\n",
        "    print(\"The request failed with status code: \" + str(error.code))\n",
        "\n",
        "    # Print the headers - they include the requert ID and the timestamp, which are useful for debugging the failure\n",
        "    print(error.info())\n",
        "    print(error.read().decode(\"utf8\", 'ignore'))"
      ],
      "outputs": [
        {
          "output_type": "stream",
          "name": "stdout",
          "text": "b'{\"Results\": [1]}'\n"
        }
      ],
      "execution_count": 19,
      "metadata": {
        "jupyter": {
          "source_hidden": false,
          "outputs_hidden": false
        },
        "nteract": {
          "transient": {
            "deleting": false
          }
        },
        "gather": {
          "logged": 1668102863256
        }
      }
    },
    {
      "cell_type": "markdown",
      "source": [
        "TODO: In the cell below, print the logs of the web service and delete the service"
      ],
      "metadata": {
        "collapsed": true,
        "gather": {
          "logged": 1598432765711
        },
        "jupyter": {
          "outputs_hidden": false,
          "source_hidden": false
        },
        "nteract": {
          "transient": {
            "deleting": false
          }
        }
      }
    },
    {
      "cell_type": "code",
      "source": [
        "print(service.get_logs())"
      ],
      "outputs": [
        {
          "output_type": "stream",
          "name": "stdout",
          "text": "2022-11-10T17:50:54,808896200+00:00 - rsyslog/run \n2022-11-10T17:50:54,809564000+00:00 - iot-server/run \n2022-11-10T17:50:54,820146900+00:00 - gunicorn/run \n2022-11-10T17:50:54,822849900+00:00 | gunicorn/run | \n2022-11-10T17:50:54,826753800+00:00 | gunicorn/run | ###############################################\n2022-11-10T17:50:54,830986300+00:00 | gunicorn/run | AzureML Container Runtime Information\n2022-11-10T17:50:54,832406900+00:00 | gunicorn/run | ###############################################\n2022-11-10T17:50:54,833673900+00:00 | gunicorn/run | \n2022-11-10T17:50:54,835067200+00:00 | gunicorn/run | \n2022-11-10T17:50:54,847924300+00:00 - nginx/run \n2022-11-10T17:50:54,852328700+00:00 | gunicorn/run | AzureML image information: openmpi3.1.2-ubuntu18.04, Materializaton Build:20220930.v4\n2022-11-10T17:50:54,858368600+00:00 | gunicorn/run | \n2022-11-10T17:50:54,860855100+00:00 | gunicorn/run | \n2022-11-10T17:50:54,865793500+00:00 | gunicorn/run | PATH environment variable: /azureml-envs/azureml_167ced737ee9811a93e21408b63f0ab3/bin:/opt/miniconda/bin:/usr/local/sbin:/usr/local/bin:/usr/sbin:/usr/bin:/sbin:/bin\n2022-11-10T17:50:54,869079100+00:00 | gunicorn/run | PYTHONPATH environment variable: \n2022-11-10T17:50:54,871629200+00:00 | gunicorn/run | \n2022-11-10T17:50:54,874159000+00:00 | gunicorn/run | Pip Dependencies (before dynamic installation)\n\nEdgeHubConnectionString and IOTEDGE_IOTHUBHOSTNAME are not set. Exiting...\n2022-11-10T17:50:55,266815000+00:00 - iot-server/finish 1 0\n2022-11-10T17:50:55,268182400+00:00 - Exit code 1 is normal. Not restarting iot-server.\nadal==1.2.7\napplicationinsights==0.11.10\nargcomplete==2.0.0\narviz @ file:///tmp/build/80754af9/arviz_1614019183254/work\nattrs==22.1.0\nazure-common==1.1.28\nazure-core==1.26.0\nazure-graphrbac==0.61.1\nazure-identity==1.11.0\nazure-mgmt-authorization==2.0.0\nazure-mgmt-containerregistry==10.0.0\nazure-mgmt-core==1.3.2\nazure-mgmt-keyvault==10.1.0\nazure-mgmt-resource==21.1.0\nazure-mgmt-storage==20.0.0\nazure-storage-blob==12.13.0\nazure-storage-queue==12.4.0\nazureml-automl-core==1.46.1\nazureml-automl-runtime==1.46.1\nazureml-core==1.46.0\nazureml-dataprep==4.5.7\nazureml-dataprep-native==38.0.0\nazureml-dataprep-rslex==2.11.4\nazureml-dataset-runtime==1.46.0\nazureml-defaults==1.46.0\nazureml-inference-server-http==0.7.6\nazureml-interpret==1.46.0\nazureml-mlflow==1.46.0\nazureml-pipeline-core==1.46.0\nazureml-responsibleai==1.46.0\nazureml-telemetry==1.46.0\nazureml-train-automl-client==1.46.0\nazureml-train-automl-runtime==1.46.1\nazureml-train-core==1.46.0\nazureml-train-restclients-hyperdrive==1.46.0\nazureml-training-tabular==1.46.1\nbackcall==0.2.0\nbackports.tempfile==1.0\nbackports.weakref==1.0.post1\nbcrypt==4.0.0\nbokeh==2.4.3\nboto==2.49.0\nboto3 @ file:///home/conda/feedstock_root/build_artifacts/boto3_1602889982367/work\nbotocore @ file:///home/conda/feedstock_root/build_artifacts/botocore_1602884371056/work\nbrotlipy==0.7.0\ncachetools==5.2.0\ncertifi @ file:///opt/conda/conda-bld/certifi_1655968806487/work/certifi\ncffi @ file:///tmp/abs_98z5h56wf8/croots/recipe/cffi_1659598650955/work\ncftime @ file:///tmp/build/80754af9/cftime_1638345281172/work\ncharset-normalizer==2.1.1\nclick @ file:///home/linux1/recipes/ci/click_1610990599742/work\ncloudpickle @ file:///Users/ktietz/demo/mc3/conda-bld/cloudpickle_1629142150447/work\nconfigparser==3.7.4\ncontextlib2==21.6.0\nconvertdate @ file:///tmp/build/80754af9/convertdate_1634070773133/work\ncryptography @ file:///tmp/build/80754af9/cryptography_1652083456434/work\ncycler @ file:///tmp/build/80754af9/cycler_1637851556182/work\nCython==0.29.17\ndask==2.30.0\ndatabricks-cli==0.17.3\ndataclasses==0.6\ndebugpy==1.6.3\ndecorator==5.1.1\ndice-ml==0.8\ndill==0.3.5.1\ndistributed==2.30.1\ndistro==1.7.0\ndocker==5.0.3\ndotnetcore2==3.1.23\ndowhy==0.7.1\neconml==0.13.1\nentrypoints==0.4\nephem @ file:///tmp/build/80754af9/ephem_1638960312619/work\nerroranalysis==0.3.11\nfairlearn==0.7.0\nfbprophet @ file:///home/conda/feedstock_root/build_artifacts/fbprophet_1599365534439/work\nfire==0.4.0\nFlask==2.1.3\nFlask-Cors==3.0.10\nflatbuffers==22.9.24\nfonttools==4.25.0\nfsspec==2022.8.2\ngensim==3.8.3\ngitdb==4.0.9\nGitPython==3.1.28\ngoogle-api-core==2.10.2\ngoogle-auth==2.12.0\ngoogleapis-common-protos==1.56.4\ngunicorn==20.1.0\nh5py==3.7.0\nHeapDict==1.0.1\nholidays @ file:///home/conda/feedstock_root/build_artifacts/holidays_1595448845196/work\nhumanfriendly==10.0\nidna @ file:///tmp/build/80754af9/idna_1637925883363/work\nimportlib-metadata==4.13.0\nimportlib-resources==5.9.0\ninference-schema==1.4.2.1\ninterpret-community==0.27.0\ninterpret-core==0.2.7\nipykernel==6.6.0\nipython==7.34.0\nisodate==0.6.1\nitsdangerous==2.1.2\njedi==0.18.1\njeepney==0.8.0\nJinja2==2.11.2\njmespath @ file:///Users/ktietz/demo/mc3/conda-bld/jmespath_1630583964805/work\njoblib==0.14.1\njson-logging-py==0.2\njsonpickle==2.2.0\njsonschema==4.16.0\njupyter-client==7.3.5\njupyter-core==4.11.1\nkeras2onnx==1.6.0\nkiwisolver @ file:///opt/conda/conda-bld/kiwisolver_1653292039266/work\nknack==0.9.0\nkorean-lunar-calendar @ file:///tmp/build/80754af9/korean_lunar_calendar_1634063020401/work\nlightgbm==3.2.1\nllvmlite==0.38.1\nlocket==1.0.0\nLunarCalendar @ file:///tmp/build/80754af9/lunarcalendar_1646383991234/work\nMarkupSafe==2.0.1\nmatplotlib @ file:///tmp/build/80754af9/matplotlib-suite_1647441664166/work\nmatplotlib-inline==0.1.6\nml-wrappers==0.2.2\nmlflow-skinny==1.29.0\nmpi4py @ file:///home/conda/feedstock_root/build_artifacts/mpi4py_1660326262210/work\nmpmath==1.2.1\nmsal==1.20.0\nmsal-extensions==1.0.0\nmsgpack==1.0.4\nmsrest==0.7.1\nmsrestazure==0.6.4\nmunkres==1.1.4\nndg-httpsclient==0.5.1\nnest-asyncio==1.5.6\nnetCDF4==1.5.7\nnetworkx==2.5\nnimbusml==1.8.0\nnumba==0.55.2\nnumpy @ file:///home/conda/feedstock_root/build_artifacts/numpy_1649806299270/work\noauthlib==3.2.1\nonnx==1.12.0\nonnxconverter-common==1.6.0\nonnxmltools==1.4.1\nonnxruntime==1.11.1\nopencensus==0.11.0\nopencensus-context==0.1.3\nopencensus-ext-azure==1.1.7\npackaging @ file:///tmp/build/80754af9/packaging_1637314298585/work\npandas==1.1.5\nparamiko==2.11.0\nparso==0.8.3\npartd==1.3.0\npathspec==0.10.1\npatsy==0.5.2\npexpect==4.8.0\npickleshare==0.7.5\nPillow==9.2.0\npkginfo==1.8.3\npkgutil-resolve-name==1.3.10\npmdarima==1.7.1\nportalocker==2.5.1\nprompt-toolkit==3.0.31\nprotobuf==3.20.3\npsutil @ file:///opt/conda/conda-bld/psutil_1656431268089/work\nptyprocess==0.7.0\npy-cpuinfo==5.0.0\npyarrow==9.0.0\npyasn1==0.4.8\npyasn1-modules==0.2.8\npycparser @ file:///tmp/build/80754af9/pycparser_1636541352034/work\npydot==1.4.2\nPygments==2.13.0\nPyJWT==2.5.0\nPyMeeus @ file:///tmp/build/80754af9/pymeeus_1634069098549/work\nPyNaCl==1.5.0\npyOpenSSL @ file:///opt/conda/conda-bld/pyopenssl_1643788558760/work\npyparsing @ file:///tmp/build/80754af9/pyparsing_1635766073266/work\npyrsistent==0.18.1\nPySocks @ file:///tmp/build/80754af9/pysocks_1594394576006/work\npystan @ file:///tmp/build/80754af9/pystan_1613565226242/work\npython-dateutil @ file:///tmp/build/80754af9/python-dateutil_1626374649649/work\npytz @ file:///opt/conda/conda-bld/pytz_1654762638606/work\nPyYAML==6.0\npyzmq==24.0.1\nraiutils==0.2.0\nrequests==2.28.1\nrequests-oauthlib==1.3.1\nresponsibleai==0.22.0\nrsa==4.9\ns3transfer @ file:///tmp/build/80754af9/s3transfer_1616183147336/work\nscikit-learn==0.22.1\nscipy==1.5.3\nSecretStorage==3.3.3\nsemver==2.13.0\nsetuptools-git==1.2\nshap==0.39.0\nsix @ file:///tmp/build/80754af9/six_1644875935023/work\nskl2onnx==1.4.9\nsklearn-pandas==1.7.0\nslicer==0.0.7\nsmart-open==1.9.0\nsmmap==5.0.0\nsortedcontainers==2.4.0\nsparse==0.13.0\nsqlparse==0.4.3\nstatsmodels==0.11.1\nsympy==1.10.1\ntabulate==0.9.0\ntblib==1.7.0\ntermcolor==2.0.1\ntoolz==0.12.0\ntornado==6.2\ntqdm @ file:///opt/conda/conda-bld/tqdm_1650891076910/work\ntraitlets==5.4.0\ntyping-extensions @ file:///tmp/abs_ben9emwtky/croots/recipe/typing_extensions_1659638822008/work\nurllib3 @ file:///tmp/build/80754af9/urllib3_1603305693037/work\nwcwidth==0.2.5\nwebsocket-client==1.4.1\nWerkzeug==2.2.2\nwrapt==1.12.1\nxarray @ file:///opt/conda/conda-bld/xarray_1639166117697/work\nxgboost==1.3.3\nzict==2.2.0\nzipp==3.8.1\n\n2022-11-10T17:50:56,225837100+00:00 | gunicorn/run | \n2022-11-10T17:50:56,231509700+00:00 | gunicorn/run | ###############################################\n2022-11-10T17:50:56,233189500+00:00 | gunicorn/run | AzureML Inference Server\n2022-11-10T17:50:56,234907500+00:00 | gunicorn/run | ###############################################\n2022-11-10T17:50:56,237048500+00:00 | gunicorn/run | \n2022-11-10T17:50:58,979139839+00:00 | gunicorn/run | Starting AzureML Inference Server HTTP.\nValid Application Insights instrumentation key provided.\n\nAzure ML Inferencing HTTP server v0.7.6\n\n\nServer Settings\n---------------\nEntry Script Name: /var/azureml-app/main.py\nModel Directory: /var/azureml-app/azureml-models/best_fit_automl_model/3\nWorker Count: 1\nWorker Timeout (seconds): 300\nServer Port: 31311\nApplication Insights Enabled: true\nApplication Insights Key: AppInsights key provided\nInferencing HTTP server version: azmlinfsrv/0.7.6\nCORS for the specified origins: None\n\n\nServer Routes\n---------------\nLiveness Probe: GET   127.0.0.1:31311/\nScore:          POST  127.0.0.1:31311/score\n\nStarting gunicorn 20.1.0\nListening at: http://0.0.0.0:31311 (73)\nUsing worker: sync\nBooting worker with pid: 129\nInitializing logger\n2022-11-10 17:51:00,277 | root | INFO | Starting up app insights client\nDeprecationWarning: Explicitly using instrumentation key isdeprecated. Please use a connection string instead.\nDeprecationWarning: Explicitly using instrumentation key isdeprecated. Please use a connection string instead.\nDeprecationWarning: Explicitly using instrumentation key isdeprecated. Please use a connection string instead.\nlogging socket was found. logging is available.\nlogging socket was found. logging is available.\n2022-11-10 17:51:05,957 | root | INFO | Starting up app insight hooks\n2022-11-10 17:51:06,915 | root | INFO | Found driver script at /var/azureml-app/main.py and the score script at /var/azureml-app/score.py\n2022-11-10 17:51:06,915 | root | INFO | run() is decorated with @input_schema. Server will invoke it with the following arguments: Inputs, GlobalParameters.\n2022-11-10 17:51:06,915 | root | INFO | Invoking user's init function\ngenerated new fontManager\nImporting plotly failed. Interactive plots will not work.\n2022-11-10 17:51:17,450 | azureml.core | WARNING | Failure while loading azureml_run_type_providers. Failed to load entrypoint azureml.scriptrun = azureml.core.script_run:ScriptRun._from_run_dto with exception The 'types-cryptography>=3.3.21; extra == \"crypto\"' distribution was not found and is required by PyJWT.\nFailure while loading azureml_run_type_providers. Failed to load entrypoint azureml.scriptrun = azureml.core.script_run:ScriptRun._from_run_dto with exception The 'types-cryptography>=3.3.21; extra == \"crypto\"' distribution was not found and is required by PyJWT.\n2022-11-10 17:51:17,542 | azureml.core | WARNING | Failure while loading azureml_run_type_providers. Failed to load entrypoint azureml.PipelineRun = azureml.pipeline.core.run:PipelineRun._from_dto with exception The 'types-cryptography>=3.3.21; extra == \"crypto\"' distribution was not found and is required by PyJWT.\nFailure while loading azureml_run_type_providers. Failed to load entrypoint azureml.PipelineRun = azureml.pipeline.core.run:PipelineRun._from_dto with exception The 'types-cryptography>=3.3.21; extra == \"crypto\"' distribution was not found and is required by PyJWT.\n2022-11-10 17:51:17,637 | azureml.core | WARNING | Failure while loading azureml_run_type_providers. Failed to load entrypoint azureml.ReusedStepRun = azureml.pipeline.core.run:StepRun._from_reused_dto with exception The 'types-cryptography>=3.3.21; extra == \"crypto\"' distribution was not found and is required by PyJWT.\nFailure while loading azureml_run_type_providers. Failed to load entrypoint azureml.ReusedStepRun = azureml.pipeline.core.run:StepRun._from_reused_dto with exception The 'types-cryptography>=3.3.21; extra == \"crypto\"' distribution was not found and is required by PyJWT.\n2022-11-10 17:51:17,727 | azureml.core | WARNING | Failure while loading azureml_run_type_providers. Failed to load entrypoint azureml.StepRun = azureml.pipeline.core.run:StepRun._from_dto with exception The 'types-cryptography>=3.3.21; extra == \"crypto\"' distribution was not found and is required by PyJWT.\nFailure while loading azureml_run_type_providers. Failed to load entrypoint azureml.StepRun = azureml.pipeline.core.run:StepRun._from_dto with exception The 'types-cryptography>=3.3.21; extra == \"crypto\"' distribution was not found and is required by PyJWT.\n2022-11-10 17:51:17,863 | azureml.core | WARNING | Failure while loading azureml_run_type_providers. Failed to load entrypoint automl = azureml.train.automl.run:AutoMLRun._from_run_dto with exception (azure-identity 1.11.0 (/azureml-envs/azureml_167ced737ee9811a93e21408b63f0ab3/lib/python3.7/site-packages), Requirement.parse('azure-identity==1.7.0'), {'azureml-dataprep'}).\nFailure while loading azureml_run_type_providers. Failed to load entrypoint automl = azureml.train.automl.run:AutoMLRun._from_run_dto with exception (azure-identity 1.11.0 (/azureml-envs/azureml_167ced737ee9811a93e21408b63f0ab3/lib/python3.7/site-packages), Requirement.parse('azure-identity==1.7.0'), {'azureml-dataprep'}).\n2022-11-10 17:51:17,955 | azureml.core | WARNING | Failure while loading azureml_run_type_providers. Failed to load entrypoint hyperdrive = azureml.train.hyperdrive:HyperDriveRun._from_run_dto with exception The 'types-cryptography>=3.3.21; extra == \"crypto\"' distribution was not found and is required by PyJWT.\nFailure while loading azureml_run_type_providers. Failed to load entrypoint hyperdrive = azureml.train.hyperdrive:HyperDriveRun._from_run_dto with exception The 'types-cryptography>=3.3.21; extra == \"crypto\"' distribution was not found and is required by PyJWT.\n2022-11-10 17:51:19,771 | root | INFO | Users's init has completed successfully\n2022-11-10 17:51:19,773 | root | INFO | Swaggers are prepared for the following versions: [2, 3].\n2022-11-10 17:51:19,773 | root | INFO | Scoring timeout is found from os.environ: 60000 ms\n2022-11-10 17:51:19,774 | root | INFO | AML_FLASK_ONE_COMPATIBILITY is set. Patched Flask to ensure compatibility with Flask 1.\n2022-11-10 17:51:31,099 | root | INFO | 200\n127.0.0.1 - - [10/Nov/2022:17:51:31 +0000] \"GET /swagger.json HTTP/1.0\" 200 3872 \"-\" \"Go-http-client/1.1\"\n2022-11-10 17:51:35,299 | root | INFO | 200\n127.0.0.1 - - [10/Nov/2022:17:51:35 +0000] \"GET /swagger.json HTTP/1.0\" 200 3872 \"-\" \"Go-http-client/1.1\"\n2022-11-10 17:53:50,231 | root | INFO | 200\n127.0.0.1 - - [10/Nov/2022:17:53:50 +0000] \"GET /swagger.json HTTP/1.0\" 200 3872 \"-\" \"Go-http-client/1.1\"\n2022-11-10 17:53:56,099 | root | INFO | 200\n127.0.0.1 - - [10/Nov/2022:17:53:56 +0000] \"GET /swagger.json HTTP/1.0\" 200 3872 \"-\" \"Go-http-client/1.1\"\n2022-11-10 17:53:57,527 | root | INFO | 200\n127.0.0.1 - - [10/Nov/2022:17:53:57 +0000] \"GET /swagger.json HTTP/1.0\" 200 3872 \"-\" \"Go-http-client/1.1\"\n2022-11-10 17:54:23,178 | root | INFO | 200\n127.0.0.1 - - [10/Nov/2022:17:54:23 +0000] \"POST /score HTTP/1.0\" 200 16 \"-\" \"Python-urllib/3.8\"\n\n"
        }
      ],
      "execution_count": 20,
      "metadata": {
        "jupyter": {
          "outputs_hidden": false,
          "source_hidden": false
        },
        "nteract": {
          "transient": {
            "deleting": false
          }
        },
        "gather": {
          "logged": 1668102870051
        }
      }
    },
    {
      "cell_type": "code",
      "source": [
        "# Delete the service\n",
        "service.delete()"
      ],
      "outputs": [],
      "execution_count": 53,
      "metadata": {
        "jupyter": {
          "source_hidden": false,
          "outputs_hidden": false
        },
        "nteract": {
          "transient": {
            "deleting": false
          }
        },
        "gather": {
          "logged": 1668096765272
        }
      }
    },
    {
      "cell_type": "markdown",
      "source": [
        "**Submission Checklist**\n",
        "- I have registered the model.\n",
        "- I have deployed the model with the best accuracy as a webservice.\n",
        "- I have tested the webservice by sending a request to the model endpoint.\n",
        "- I have deleted the webservice and shutdown all the computes that I have used.\n",
        "- I have taken a screenshot showing the model endpoint as active.\n",
        "- The project includes a file containing the environment details.\n"
      ],
      "metadata": {}
    },
    {
      "cell_type": "markdown",
      "source": [],
      "metadata": {}
    }
  ],
  "metadata": {
    "kernel_info": {
      "name": "python3"
    },
    "kernelspec": {
      "name": "python3",
      "language": "python",
      "display_name": "Python 3 (ipykernel)"
    },
    "language_info": {
      "name": "python",
      "version": "3.8.5",
      "mimetype": "text/x-python",
      "codemirror_mode": {
        "name": "ipython",
        "version": 3
      },
      "pygments_lexer": "ipython3",
      "nbconvert_exporter": "python",
      "file_extension": ".py"
    },
    "nteract": {
      "version": "nteract-front-end@1.0.0"
    },
    "microsoft": {
      "host": {
        "AzureML": {
          "notebookHasBeenCompleted": true
        }
      }
    }
  },
  "nbformat": 4,
  "nbformat_minor": 2
}